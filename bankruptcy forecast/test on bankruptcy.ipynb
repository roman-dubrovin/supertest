{
 "cells": [
  {
   "cell_type": "markdown",
   "metadata": {},
   "source": [
    "### Задача: \n",
    "реализовать механизм проверки предприятия на банкротство, используя ранее обученную модель для прогнозирования вероятности банкротства"
   ]
  },
  {
   "cell_type": "code",
   "execution_count": 1,
   "metadata": {},
   "outputs": [],
   "source": [
    "import numpy as np\n",
    "import pandas as pd\n",
    "import pickle"
   ]
  },
  {
   "cell_type": "code",
   "execution_count": null,
   "metadata": {},
   "outputs": [],
   "source": []
  },
  {
   "cell_type": "code",
   "execution_count": 2,
   "metadata": {},
   "outputs": [],
   "source": [
    "# загрузим модель предсказания банкротства из файла 'model.sav'\n",
    "# (модель создается и записывается в ноутбуке 'bankruptcy forecast.ipynb')\n",
    "model = pickle.load(open('model.sav', 'rb'))"
   ]
  },
  {
   "cell_type": "code",
   "execution_count": null,
   "metadata": {},
   "outputs": [],
   "source": []
  },
  {
   "cell_type": "code",
   "execution_count": 3,
   "metadata": {},
   "outputs": [],
   "source": [
    "def analysis_bankrupt(model, csv_filename, pkl_filename):\n",
    "    '''\n",
    "    Функция выполняет анализ предприятия на вероятность банкротства на основании созданной ранее модели.\n",
    "    \n",
    "    В ходе работы данной функции загружаются данные из указанных файлов и проводится подготовка данных,\n",
    "    которая полностью соответствует подготовке данных при создании и обучении модели \n",
    "    (см. ноутбук 'bankruptcy forecast.ipynb').\n",
    "    \n",
    "    Вход: \n",
    "        model - обученная модель\n",
    "        csv_filename - данные предприятия об обязательствах и активах\n",
    "        pkl_filename - данные предприятия об участии в арбитражах\n",
    "    Выход: 1 - есть вероятность банкротства данного предприятия, 0 - нет\n",
    "    '''\n",
    "\n",
    "    # загрузим данные об активах и задолженности компании из csv-файла в датафрейм 'df_accounts'\n",
    "    df_account = pd.read_csv(csv_filename, sep=',')\n",
    "    df_account.rename(columns={'Unnamed: 0': 'id',\n",
    "                               'long_term_liabilities_fiscal_year': 'long_liabilities',\n",
    "                               'short_term_liabilities_fiscal_year': 'short_liabilities',\n",
    "                               'balance_assets_fiscal_year': 'balance_assets'}, inplace=True)\n",
    "    df_account.set_index('id', inplace=True)\n",
    "    df_account.fillna(0, inplace=True)\n",
    "    df_account = df_account.astype({'year': 'int16',\n",
    "                                    'short_liabilities': 'float64',\n",
    "                                    'balance_assets': 'float64',\n",
    "                                    'okei': 'int16'})\n",
    "\n",
    "    # загрузим данные из pkl-файла в датафрейм 'df_court_cases'\n",
    "    # pkl-файл хранит сведения об участии предприятия в арбитражных делах\n",
    "    # поле case_sides.type принимает значения: \n",
    "    # 0 - 'истец', 1 - 'ответчик', 2 - 'свидетель', 3 - 'конкурсный управляющий' \n",
    "    # (type 3 был выявлен при анализе pkl-файлов)\n",
    "    # для подсчета кол-ва участий по каждому типу стороны дела будем пользоваться словарем\n",
    "    df_court_cases = pd.DataFrame(columns=['inn', 'year', 0, 1, 2, 3])\n",
    "\n",
    "    with open(pkl_filename, 'rb') as f:\n",
    "        data = pickle.load(f)\n",
    "\n",
    "    inn = data['inn']\n",
    "\n",
    "    court_case = dict()    \n",
    "    for i in range(len(data['cases_list'])):\n",
    "        year = pd.to_datetime(data['cases_list'][i]['caseDate']).year\n",
    "        if year not in court_case:\n",
    "            court_case[year] = {'inn': inn, 'year': year, 0: 0, 1: 0, 2: 0, 3: 0}\n",
    "        count_case_sides = len(data['cases_list'][i]['case_sides'])\n",
    "        for j in range(count_case_sides):\n",
    "            if data['cases_list'][i]['case_sides'][j]['INN'] == str(inn):\n",
    "                court_case[year][data['cases_list'][i]['case_sides'][j]['type']] += 1\n",
    "\n",
    "    court_case_list = [x for x in court_case.values()]\n",
    "\n",
    "    df_court_cases = df_court_cases.append(court_case_list, ignore_index=True)\n",
    "\n",
    "    # дадим 'осмысленные' названия столбцам и приведем в порядок типы данных\n",
    "    df_court_cases.rename(columns={0: 'applicant', 1: 'responder', 2: 'witness', 3: 'bankrupt_trustee'}, inplace=True)\n",
    "    df_court_cases = df_court_cases.astype({'inn': 'int64',\n",
    "                                            'year': 'int16',\n",
    "                                            'applicant': 'int16',\n",
    "                                            'responder': 'int16',\n",
    "                                            'witness': 'int16',\n",
    "                                            'bankrupt_trustee': 'int16'})\n",
    "\n",
    "    # данные об обязательствах и баланс приведем к тыс.руб.\n",
    "    def calc(x, y):\n",
    "        if y == 383:\n",
    "            x /= 1000\n",
    "        elif y == 385:\n",
    "            x *= 1000\n",
    "        return x\n",
    "\n",
    "    df_account['long_liabilities_th'] = df_account.apply(lambda x: calc(x['long_liabilities'], x['okei']), axis=1)\n",
    "    df_account['short_liabilities_th'] = df_account.apply(lambda x: calc(x['short_liabilities'], x['okei']), axis=1)\n",
    "    df_account['balance_assets_th'] = df_account.apply(lambda x: calc(x['balance_assets'], x['okei']), axis=1)\n",
    "\n",
    "    # соберем все сведения о предприятии в единый датафрейм 'df_firms'\n",
    "    df_firm = pd.merge(df_account, df_court_cases, on=['inn', 'year'], how='outer') \n",
    "    df_firm.drop(['long_liabilities', 'short_liabilities', 'balance_assets', 'okei'], axis=1, inplace=True)\n",
    "    df_firm.fillna(0, inplace=True)\n",
    "\n",
    "    # приведем в порядок типы данных\n",
    "    df_firm = df_firm.astype({'year': 'int16',\n",
    "                              'long_liabilities_th': 'float64',\n",
    "                              'short_liabilities_th': 'float64',\n",
    "                              'balance_assets_th': 'float64',\n",
    "                              'applicant': 'int16',\n",
    "                              'responder': 'int16',\n",
    "                              'witness': 'int16',\n",
    "                              'bankrupt_trustee': 'int16'})\n",
    "\n",
    "    # сгруппируем даные о предприятии и просуммируем кол-во сведений об участии в арбитражах,\n",
    "    # а данные об обязательствах и баланс возьмем по последнему году\n",
    "    # добавим еще один признак - кол-во лет предприятию\n",
    "    # (в данном случае кол-во наблюдений, т.к. у нас нет информации о дате создания предприятия)\n",
    "    df_firm_agg = df_firm.sort_values(by=['year']).groupby('inn', as_index=False).\\\n",
    "        agg(year=('year', 'last'),\n",
    "            count_years=('year', 'count'),\n",
    "            long_liabilities_th=('long_liabilities_th', 'last'),\n",
    "            short_liabilities_th=('short_liabilities_th', 'last'),\n",
    "            balance_assets_th=('balance_assets_th', 'last'),\n",
    "            applicant=('applicant', 'sum'),\n",
    "            responder=('responder', 'sum'),\n",
    "            witness=('witness', 'sum'),\n",
    "            bankrupt_trustee=('bankrupt_trustee', 'sum')\n",
    "           )\n",
    "\n",
    "    df_firm_agg.drop(['year'], axis=1, inplace=True)\n",
    "    df_firm_agg.set_index('inn', inplace=True)\n",
    "\n",
    "    # сделаем прогноз для указанного предприятия\n",
    "    y_pred = model.predict(df_firm_agg)\n",
    "    \n",
    "    return y_pred[0]"
   ]
  },
  {
   "cell_type": "code",
   "execution_count": null,
   "metadata": {},
   "outputs": [],
   "source": []
  },
  {
   "cell_type": "code",
   "execution_count": 4,
   "metadata": {},
   "outputs": [],
   "source": [
    "csv_filename = 'test/1302000640.csv'\n",
    "pkl_filename = 'test/1302000640_b.pkl'"
   ]
  },
  {
   "cell_type": "code",
   "execution_count": 5,
   "metadata": {},
   "outputs": [
    {
     "name": "stdout",
     "output_type": "stream",
     "text": [
      "Вероятность банкротства: есть\n"
     ]
    }
   ],
   "source": [
    "res = analysis_bankrupt(model, csv_filename, pkl_filename)\n",
    "res_str = 'есть' if res == 1 else 'нет'\n",
    "print('Вероятность банкротства:', res_str)"
   ]
  },
  {
   "cell_type": "code",
   "execution_count": null,
   "metadata": {},
   "outputs": [],
   "source": []
  },
  {
   "cell_type": "code",
   "execution_count": 6,
   "metadata": {},
   "outputs": [],
   "source": [
    "csv_filename = 'test/9102060446.csv'\n",
    "pkl_filename = 'test/9102060446.pkl'"
   ]
  },
  {
   "cell_type": "code",
   "execution_count": 7,
   "metadata": {},
   "outputs": [
    {
     "name": "stdout",
     "output_type": "stream",
     "text": [
      "Вероятность банкротства: нет\n"
     ]
    }
   ],
   "source": [
    "res = analysis_bankrupt(model, csv_filename, pkl_filename)\n",
    "res_str = 'есть' if res == 1 else 'нет'\n",
    "print('Вероятность банкротства:', res_str)"
   ]
  },
  {
   "cell_type": "code",
   "execution_count": null,
   "metadata": {},
   "outputs": [],
   "source": []
  }
 ],
 "metadata": {
  "kernelspec": {
   "display_name": "Python 3",
   "language": "python",
   "name": "python3"
  },
  "language_info": {
   "codemirror_mode": {
    "name": "ipython",
    "version": 3
   },
   "file_extension": ".py",
   "mimetype": "text/x-python",
   "name": "python",
   "nbconvert_exporter": "python",
   "pygments_lexer": "ipython3",
   "version": "3.7.4"
  }
 },
 "nbformat": 4,
 "nbformat_minor": 4
}
