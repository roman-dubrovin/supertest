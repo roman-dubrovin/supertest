{
 "cells": [
  {
   "cell_type": "code",
   "execution_count": 1,
   "metadata": {},
   "outputs": [],
   "source": [
    "import numpy as np\n",
    "import pandas as pd\n",
    "import pyarrow.parquet as pq"
   ]
  },
  {
   "cell_type": "code",
   "execution_count": 2,
   "metadata": {},
   "outputs": [],
   "source": [
    "%matplotlib inline\n",
    "import matplotlib.pyplot as plt\n",
    "import seaborn as sns"
   ]
  },
  {
   "cell_type": "code",
   "execution_count": 3,
   "metadata": {},
   "outputs": [],
   "source": [
    "# загрузим данные\n",
    "transactions_data = pd.read_parquet('transactions.parquet', engine='pyarrow')"
   ]
  },
  {
   "cell_type": "markdown",
   "metadata": {},
   "source": [
    "посмотрим, что за данные мы загрузили:"
   ]
  },
  {
   "cell_type": "code",
   "execution_count": 4,
   "metadata": {},
   "outputs": [
    {
     "name": "stdout",
     "output_type": "stream",
     "text": [
      "<class 'pandas.core.frame.DataFrame'>\n",
      "RangeIndex: 32109414 entries, 0 to 32109413\n",
      "Data columns (total 9 columns):\n",
      " #   Column        Dtype         \n",
      "---  ------        -----         \n",
      " 0   chq_id        object        \n",
      " 1   plant         object        \n",
      " 2   chq_date      datetime64[ns]\n",
      " 3   chq_position  object        \n",
      " 4   client_id     object        \n",
      " 5   material      object        \n",
      " 6   sales_count   float64       \n",
      " 7   sales_sum     float64       \n",
      " 8   is_promo      int64         \n",
      "dtypes: datetime64[ns](1), float64(2), int64(1), object(5)\n",
      "memory usage: 2.2+ GB\n"
     ]
    }
   ],
   "source": [
    "transactions_data.info()"
   ]
  },
  {
   "cell_type": "markdown",
   "metadata": {},
   "source": [
    "32 млн. записей! нужно быть аккуратнее с выбором методов анализа такого датасета!"
   ]
  },
  {
   "cell_type": "markdown",
   "metadata": {},
   "source": [
    "из описания следует, что \"transactions.parquet\" содержит данные о покупах: какие товары клиент приобрел (чек)"
   ]
  },
  {
   "cell_type": "code",
   "execution_count": 5,
   "metadata": {},
   "outputs": [
    {
     "data": {
      "text/html": [
       "<div>\n",
       "<style scoped>\n",
       "    .dataframe tbody tr th:only-of-type {\n",
       "        vertical-align: middle;\n",
       "    }\n",
       "\n",
       "    .dataframe tbody tr th {\n",
       "        vertical-align: top;\n",
       "    }\n",
       "\n",
       "    .dataframe thead th {\n",
       "        text-align: right;\n",
       "    }\n",
       "</style>\n",
       "<table border=\"1\" class=\"dataframe\">\n",
       "  <thead>\n",
       "    <tr style=\"text-align: right;\">\n",
       "      <th></th>\n",
       "      <th>chq_id</th>\n",
       "      <th>plant</th>\n",
       "      <th>chq_date</th>\n",
       "      <th>chq_position</th>\n",
       "      <th>client_id</th>\n",
       "      <th>material</th>\n",
       "      <th>sales_count</th>\n",
       "      <th>sales_sum</th>\n",
       "      <th>is_promo</th>\n",
       "    </tr>\n",
       "  </thead>\n",
       "  <tbody>\n",
       "    <tr>\n",
       "      <th>0</th>\n",
       "      <td>ce5b3d1c531348c5d0d8e859b6d0cf91</td>\n",
       "      <td>7cd86ecb09aa48c6e620b340f6a74592</td>\n",
       "      <td>2016-11-01</td>\n",
       "      <td>004</td>\n",
       "      <td>90fca68123e692a005a4edeadd94b2f2</td>\n",
       "      <td>232cfe8b28970434f685b737737b26d4</td>\n",
       "      <td>2.000</td>\n",
       "      <td>146.98</td>\n",
       "      <td>0</td>\n",
       "    </tr>\n",
       "    <tr>\n",
       "      <th>1</th>\n",
       "      <td>ce5b3d1c531348c5d0d8e859b6d0cf91</td>\n",
       "      <td>7cd86ecb09aa48c6e620b340f6a74592</td>\n",
       "      <td>2016-11-01</td>\n",
       "      <td>003</td>\n",
       "      <td>90fca68123e692a005a4edeadd94b2f2</td>\n",
       "      <td>12ec64451b8e426db16f3f05ea770901</td>\n",
       "      <td>1.000</td>\n",
       "      <td>249.99</td>\n",
       "      <td>1</td>\n",
       "    </tr>\n",
       "    <tr>\n",
       "      <th>2</th>\n",
       "      <td>ce5b3d1c531348c5d0d8e859b6d0cf91</td>\n",
       "      <td>7cd86ecb09aa48c6e620b340f6a74592</td>\n",
       "      <td>2016-11-01</td>\n",
       "      <td>012</td>\n",
       "      <td>90fca68123e692a005a4edeadd94b2f2</td>\n",
       "      <td>1212ff8ecf53aebef093ca8ae216db68</td>\n",
       "      <td>1.000</td>\n",
       "      <td>47.99</td>\n",
       "      <td>1</td>\n",
       "    </tr>\n",
       "    <tr>\n",
       "      <th>3</th>\n",
       "      <td>ce5b3d1c531348c5d0d8e859b6d0cf91</td>\n",
       "      <td>7cd86ecb09aa48c6e620b340f6a74592</td>\n",
       "      <td>2016-11-01</td>\n",
       "      <td>013</td>\n",
       "      <td>90fca68123e692a005a4edeadd94b2f2</td>\n",
       "      <td>1212ff8ecf53aebef093ca8ae216db68</td>\n",
       "      <td>1.000</td>\n",
       "      <td>47.99</td>\n",
       "      <td>1</td>\n",
       "    </tr>\n",
       "    <tr>\n",
       "      <th>4</th>\n",
       "      <td>ce5b3d1c531348c5d0d8e859b6d0cf91</td>\n",
       "      <td>7cd86ecb09aa48c6e620b340f6a74592</td>\n",
       "      <td>2016-11-01</td>\n",
       "      <td>011</td>\n",
       "      <td>90fca68123e692a005a4edeadd94b2f2</td>\n",
       "      <td>571c6d3b559db8445e05265649eb30ab</td>\n",
       "      <td>2.000</td>\n",
       "      <td>53.98</td>\n",
       "      <td>1</td>\n",
       "    </tr>\n",
       "    <tr>\n",
       "      <th>5</th>\n",
       "      <td>ce5b3d1c531348c5d0d8e859b6d0cf91</td>\n",
       "      <td>7cd86ecb09aa48c6e620b340f6a74592</td>\n",
       "      <td>2016-11-01</td>\n",
       "      <td>001</td>\n",
       "      <td>90fca68123e692a005a4edeadd94b2f2</td>\n",
       "      <td>76608b1b1d38384fcac3e2b14e6ec0c9</td>\n",
       "      <td>2.000</td>\n",
       "      <td>64.78</td>\n",
       "      <td>1</td>\n",
       "    </tr>\n",
       "    <tr>\n",
       "      <th>6</th>\n",
       "      <td>ce5b3d1c531348c5d0d8e859b6d0cf91</td>\n",
       "      <td>7cd86ecb09aa48c6e620b340f6a74592</td>\n",
       "      <td>2016-11-01</td>\n",
       "      <td>006</td>\n",
       "      <td>90fca68123e692a005a4edeadd94b2f2</td>\n",
       "      <td>86069eddeab2b94b00eca5801628c879</td>\n",
       "      <td>0.728</td>\n",
       "      <td>65.51</td>\n",
       "      <td>0</td>\n",
       "    </tr>\n",
       "    <tr>\n",
       "      <th>7</th>\n",
       "      <td>ce5b3d1c531348c5d0d8e859b6d0cf91</td>\n",
       "      <td>7cd86ecb09aa48c6e620b340f6a74592</td>\n",
       "      <td>2016-11-01</td>\n",
       "      <td>010</td>\n",
       "      <td>90fca68123e692a005a4edeadd94b2f2</td>\n",
       "      <td>cd8645ab842a98332560a07d137aed24</td>\n",
       "      <td>1.000</td>\n",
       "      <td>36.99</td>\n",
       "      <td>1</td>\n",
       "    </tr>\n",
       "    <tr>\n",
       "      <th>8</th>\n",
       "      <td>ce5b3d1c531348c5d0d8e859b6d0cf91</td>\n",
       "      <td>7cd86ecb09aa48c6e620b340f6a74592</td>\n",
       "      <td>2016-11-01</td>\n",
       "      <td>007</td>\n",
       "      <td>90fca68123e692a005a4edeadd94b2f2</td>\n",
       "      <td>f6f07df28266b03cb7822b62abf0a385</td>\n",
       "      <td>2.000</td>\n",
       "      <td>72.99</td>\n",
       "      <td>1</td>\n",
       "    </tr>\n",
       "    <tr>\n",
       "      <th>9</th>\n",
       "      <td>ce5b3d1c531348c5d0d8e859b6d0cf91</td>\n",
       "      <td>7cd86ecb09aa48c6e620b340f6a74592</td>\n",
       "      <td>2016-11-01</td>\n",
       "      <td>005</td>\n",
       "      <td>90fca68123e692a005a4edeadd94b2f2</td>\n",
       "      <td>b726b2ec8d0643d38e29d96733153dd4</td>\n",
       "      <td>2.000</td>\n",
       "      <td>51.98</td>\n",
       "      <td>1</td>\n",
       "    </tr>\n",
       "    <tr>\n",
       "      <th>10</th>\n",
       "      <td>ce5b3d1c531348c5d0d8e859b6d0cf91</td>\n",
       "      <td>7cd86ecb09aa48c6e620b340f6a74592</td>\n",
       "      <td>2016-11-01</td>\n",
       "      <td>008</td>\n",
       "      <td>90fca68123e692a005a4edeadd94b2f2</td>\n",
       "      <td>33fa1fd7d0c11ccde404416d63e9b50a</td>\n",
       "      <td>1.000</td>\n",
       "      <td>549.94</td>\n",
       "      <td>1</td>\n",
       "    </tr>\n",
       "    <tr>\n",
       "      <th>11</th>\n",
       "      <td>ce5b3d1c531348c5d0d8e859b6d0cf91</td>\n",
       "      <td>7cd86ecb09aa48c6e620b340f6a74592</td>\n",
       "      <td>2016-11-01</td>\n",
       "      <td>002</td>\n",
       "      <td>90fca68123e692a005a4edeadd94b2f2</td>\n",
       "      <td>ada84ea081d5d3c919dc12a5bdde904e</td>\n",
       "      <td>1.000</td>\n",
       "      <td>179.99</td>\n",
       "      <td>1</td>\n",
       "    </tr>\n",
       "    <tr>\n",
       "      <th>12</th>\n",
       "      <td>ce5b3d1c531348c5d0d8e859b6d0cf91</td>\n",
       "      <td>7cd86ecb09aa48c6e620b340f6a74592</td>\n",
       "      <td>2016-11-01</td>\n",
       "      <td>009</td>\n",
       "      <td>90fca68123e692a005a4edeadd94b2f2</td>\n",
       "      <td>e09bae8a6aa3492347bef47d9913344a</td>\n",
       "      <td>1.000</td>\n",
       "      <td>64.89</td>\n",
       "      <td>0</td>\n",
       "    </tr>\n",
       "    <tr>\n",
       "      <th>13</th>\n",
       "      <td>3be794c2ba7c330197026099a3bf73b1</td>\n",
       "      <td>7cd86ecb09aa48c6e620b340f6a74592</td>\n",
       "      <td>2016-11-01</td>\n",
       "      <td>001</td>\n",
       "      <td>26f3232ab25e58588cd2b4002b6f7836</td>\n",
       "      <td>237ddb493d39894c26f734f184b714e4</td>\n",
       "      <td>2.000</td>\n",
       "      <td>163.00</td>\n",
       "      <td>0</td>\n",
       "    </tr>\n",
       "    <tr>\n",
       "      <th>14</th>\n",
       "      <td>37d1f3b79bae03f8d3c279436139251e</td>\n",
       "      <td>7cd86ecb09aa48c6e620b340f6a74592</td>\n",
       "      <td>2016-11-01</td>\n",
       "      <td>005</td>\n",
       "      <td>eb09b11a1efb6e12f122e78bde33e5c3</td>\n",
       "      <td>3b812d722d5399897dfae64b31a7e1d8</td>\n",
       "      <td>1.000</td>\n",
       "      <td>99.99</td>\n",
       "      <td>1</td>\n",
       "    </tr>\n",
       "    <tr>\n",
       "      <th>15</th>\n",
       "      <td>37d1f3b79bae03f8d3c279436139251e</td>\n",
       "      <td>7cd86ecb09aa48c6e620b340f6a74592</td>\n",
       "      <td>2016-11-01</td>\n",
       "      <td>004</td>\n",
       "      <td>eb09b11a1efb6e12f122e78bde33e5c3</td>\n",
       "      <td>232cfe8b28970434f685b737737b26d4</td>\n",
       "      <td>1.000</td>\n",
       "      <td>73.49</td>\n",
       "      <td>0</td>\n",
       "    </tr>\n",
       "    <tr>\n",
       "      <th>16</th>\n",
       "      <td>37d1f3b79bae03f8d3c279436139251e</td>\n",
       "      <td>7cd86ecb09aa48c6e620b340f6a74592</td>\n",
       "      <td>2016-11-01</td>\n",
       "      <td>001</td>\n",
       "      <td>eb09b11a1efb6e12f122e78bde33e5c3</td>\n",
       "      <td>b75147feae4cf8ec07fb5f2cef855def</td>\n",
       "      <td>1.000</td>\n",
       "      <td>3.49</td>\n",
       "      <td>0</td>\n",
       "    </tr>\n",
       "    <tr>\n",
       "      <th>17</th>\n",
       "      <td>37d1f3b79bae03f8d3c279436139251e</td>\n",
       "      <td>7cd86ecb09aa48c6e620b340f6a74592</td>\n",
       "      <td>2016-11-01</td>\n",
       "      <td>006</td>\n",
       "      <td>eb09b11a1efb6e12f122e78bde33e5c3</td>\n",
       "      <td>8276649b353aa9994c4f383564d61ab4</td>\n",
       "      <td>1.000</td>\n",
       "      <td>97.19</td>\n",
       "      <td>0</td>\n",
       "    </tr>\n",
       "    <tr>\n",
       "      <th>18</th>\n",
       "      <td>37d1f3b79bae03f8d3c279436139251e</td>\n",
       "      <td>7cd86ecb09aa48c6e620b340f6a74592</td>\n",
       "      <td>2016-11-01</td>\n",
       "      <td>002</td>\n",
       "      <td>eb09b11a1efb6e12f122e78bde33e5c3</td>\n",
       "      <td>f6d8956d2f8419a360449212cc0a9213</td>\n",
       "      <td>1.000</td>\n",
       "      <td>124.99</td>\n",
       "      <td>0</td>\n",
       "    </tr>\n",
       "    <tr>\n",
       "      <th>19</th>\n",
       "      <td>37d1f3b79bae03f8d3c279436139251e</td>\n",
       "      <td>7cd86ecb09aa48c6e620b340f6a74592</td>\n",
       "      <td>2016-11-01</td>\n",
       "      <td>003</td>\n",
       "      <td>eb09b11a1efb6e12f122e78bde33e5c3</td>\n",
       "      <td>cb417f3cdb4d49d3f2104dcc454d8575</td>\n",
       "      <td>1.000</td>\n",
       "      <td>134.86</td>\n",
       "      <td>0</td>\n",
       "    </tr>\n",
       "  </tbody>\n",
       "</table>\n",
       "</div>"
      ],
      "text/plain": [
       "                              chq_id                             plant  \\\n",
       "0   ce5b3d1c531348c5d0d8e859b6d0cf91  7cd86ecb09aa48c6e620b340f6a74592   \n",
       "1   ce5b3d1c531348c5d0d8e859b6d0cf91  7cd86ecb09aa48c6e620b340f6a74592   \n",
       "2   ce5b3d1c531348c5d0d8e859b6d0cf91  7cd86ecb09aa48c6e620b340f6a74592   \n",
       "3   ce5b3d1c531348c5d0d8e859b6d0cf91  7cd86ecb09aa48c6e620b340f6a74592   \n",
       "4   ce5b3d1c531348c5d0d8e859b6d0cf91  7cd86ecb09aa48c6e620b340f6a74592   \n",
       "5   ce5b3d1c531348c5d0d8e859b6d0cf91  7cd86ecb09aa48c6e620b340f6a74592   \n",
       "6   ce5b3d1c531348c5d0d8e859b6d0cf91  7cd86ecb09aa48c6e620b340f6a74592   \n",
       "7   ce5b3d1c531348c5d0d8e859b6d0cf91  7cd86ecb09aa48c6e620b340f6a74592   \n",
       "8   ce5b3d1c531348c5d0d8e859b6d0cf91  7cd86ecb09aa48c6e620b340f6a74592   \n",
       "9   ce5b3d1c531348c5d0d8e859b6d0cf91  7cd86ecb09aa48c6e620b340f6a74592   \n",
       "10  ce5b3d1c531348c5d0d8e859b6d0cf91  7cd86ecb09aa48c6e620b340f6a74592   \n",
       "11  ce5b3d1c531348c5d0d8e859b6d0cf91  7cd86ecb09aa48c6e620b340f6a74592   \n",
       "12  ce5b3d1c531348c5d0d8e859b6d0cf91  7cd86ecb09aa48c6e620b340f6a74592   \n",
       "13  3be794c2ba7c330197026099a3bf73b1  7cd86ecb09aa48c6e620b340f6a74592   \n",
       "14  37d1f3b79bae03f8d3c279436139251e  7cd86ecb09aa48c6e620b340f6a74592   \n",
       "15  37d1f3b79bae03f8d3c279436139251e  7cd86ecb09aa48c6e620b340f6a74592   \n",
       "16  37d1f3b79bae03f8d3c279436139251e  7cd86ecb09aa48c6e620b340f6a74592   \n",
       "17  37d1f3b79bae03f8d3c279436139251e  7cd86ecb09aa48c6e620b340f6a74592   \n",
       "18  37d1f3b79bae03f8d3c279436139251e  7cd86ecb09aa48c6e620b340f6a74592   \n",
       "19  37d1f3b79bae03f8d3c279436139251e  7cd86ecb09aa48c6e620b340f6a74592   \n",
       "\n",
       "     chq_date chq_position                         client_id  \\\n",
       "0  2016-11-01          004  90fca68123e692a005a4edeadd94b2f2   \n",
       "1  2016-11-01          003  90fca68123e692a005a4edeadd94b2f2   \n",
       "2  2016-11-01          012  90fca68123e692a005a4edeadd94b2f2   \n",
       "3  2016-11-01          013  90fca68123e692a005a4edeadd94b2f2   \n",
       "4  2016-11-01          011  90fca68123e692a005a4edeadd94b2f2   \n",
       "5  2016-11-01          001  90fca68123e692a005a4edeadd94b2f2   \n",
       "6  2016-11-01          006  90fca68123e692a005a4edeadd94b2f2   \n",
       "7  2016-11-01          010  90fca68123e692a005a4edeadd94b2f2   \n",
       "8  2016-11-01          007  90fca68123e692a005a4edeadd94b2f2   \n",
       "9  2016-11-01          005  90fca68123e692a005a4edeadd94b2f2   \n",
       "10 2016-11-01          008  90fca68123e692a005a4edeadd94b2f2   \n",
       "11 2016-11-01          002  90fca68123e692a005a4edeadd94b2f2   \n",
       "12 2016-11-01          009  90fca68123e692a005a4edeadd94b2f2   \n",
       "13 2016-11-01          001  26f3232ab25e58588cd2b4002b6f7836   \n",
       "14 2016-11-01          005  eb09b11a1efb6e12f122e78bde33e5c3   \n",
       "15 2016-11-01          004  eb09b11a1efb6e12f122e78bde33e5c3   \n",
       "16 2016-11-01          001  eb09b11a1efb6e12f122e78bde33e5c3   \n",
       "17 2016-11-01          006  eb09b11a1efb6e12f122e78bde33e5c3   \n",
       "18 2016-11-01          002  eb09b11a1efb6e12f122e78bde33e5c3   \n",
       "19 2016-11-01          003  eb09b11a1efb6e12f122e78bde33e5c3   \n",
       "\n",
       "                            material  sales_count  sales_sum  is_promo  \n",
       "0   232cfe8b28970434f685b737737b26d4        2.000     146.98         0  \n",
       "1   12ec64451b8e426db16f3f05ea770901        1.000     249.99         1  \n",
       "2   1212ff8ecf53aebef093ca8ae216db68        1.000      47.99         1  \n",
       "3   1212ff8ecf53aebef093ca8ae216db68        1.000      47.99         1  \n",
       "4   571c6d3b559db8445e05265649eb30ab        2.000      53.98         1  \n",
       "5   76608b1b1d38384fcac3e2b14e6ec0c9        2.000      64.78         1  \n",
       "6   86069eddeab2b94b00eca5801628c879        0.728      65.51         0  \n",
       "7   cd8645ab842a98332560a07d137aed24        1.000      36.99         1  \n",
       "8   f6f07df28266b03cb7822b62abf0a385        2.000      72.99         1  \n",
       "9   b726b2ec8d0643d38e29d96733153dd4        2.000      51.98         1  \n",
       "10  33fa1fd7d0c11ccde404416d63e9b50a        1.000     549.94         1  \n",
       "11  ada84ea081d5d3c919dc12a5bdde904e        1.000     179.99         1  \n",
       "12  e09bae8a6aa3492347bef47d9913344a        1.000      64.89         0  \n",
       "13  237ddb493d39894c26f734f184b714e4        2.000     163.00         0  \n",
       "14  3b812d722d5399897dfae64b31a7e1d8        1.000      99.99         1  \n",
       "15  232cfe8b28970434f685b737737b26d4        1.000      73.49         0  \n",
       "16  b75147feae4cf8ec07fb5f2cef855def        1.000       3.49         0  \n",
       "17  8276649b353aa9994c4f383564d61ab4        1.000      97.19         0  \n",
       "18  f6d8956d2f8419a360449212cc0a9213        1.000     124.99         0  \n",
       "19  cb417f3cdb4d49d3f2104dcc454d8575        1.000     134.86         0  "
      ]
     },
     "execution_count": 5,
     "metadata": {},
     "output_type": "execute_result"
    }
   ],
   "source": [
    "transactions_data.head(20)"
   ]
  },
  {
   "cell_type": "code",
   "execution_count": 6,
   "metadata": {},
   "outputs": [
    {
     "name": "stdout",
     "output_type": "stream",
     "text": [
      "данные о покупах за период с 2016-10-04 00:00:00 по 2017-10-04 00:00:00\n"
     ]
    }
   ],
   "source": [
    "print('данные о покупах за период с', transactions_data.chq_date.min(), 'по', transactions_data.chq_date.max())"
   ]
  },
  {
   "cell_type": "code",
   "execution_count": 7,
   "metadata": {},
   "outputs": [
    {
     "name": "stdout",
     "output_type": "stream",
     "text": [
      "кол-во уникальных клиентов: 100000\n"
     ]
    }
   ],
   "source": [
    "print('кол-во уникальных клиентов:', transactions_data.client_id.nunique())"
   ]
  },
  {
   "cell_type": "code",
   "execution_count": 8,
   "metadata": {},
   "outputs": [],
   "source": [
    "# сделаем выборку из общей базы: клиент, дата покупки, сумма покупки\n",
    "data_for_analysis = transactions_data.groupby(['client_id', 'chq_date'], as_index=False).sales_sum.sum()"
   ]
  },
  {
   "cell_type": "code",
   "execution_count": 9,
   "metadata": {},
   "outputs": [
    {
     "data": {
      "text/html": [
       "<div>\n",
       "<style scoped>\n",
       "    .dataframe tbody tr th:only-of-type {\n",
       "        vertical-align: middle;\n",
       "    }\n",
       "\n",
       "    .dataframe tbody tr th {\n",
       "        vertical-align: top;\n",
       "    }\n",
       "\n",
       "    .dataframe thead th {\n",
       "        text-align: right;\n",
       "    }\n",
       "</style>\n",
       "<table border=\"1\" class=\"dataframe\">\n",
       "  <thead>\n",
       "    <tr style=\"text-align: right;\">\n",
       "      <th></th>\n",
       "      <th>client_id</th>\n",
       "      <th>chq_date</th>\n",
       "      <th>sales_sum</th>\n",
       "    </tr>\n",
       "  </thead>\n",
       "  <tbody>\n",
       "    <tr>\n",
       "      <th>0</th>\n",
       "      <td>0000d48a8891cd462fdf01ea861ec53e</td>\n",
       "      <td>2016-10-31</td>\n",
       "      <td>1655.0</td>\n",
       "    </tr>\n",
       "    <tr>\n",
       "      <th>1</th>\n",
       "      <td>0000d48a8891cd462fdf01ea861ec53e</td>\n",
       "      <td>2016-11-20</td>\n",
       "      <td>2475.0</td>\n",
       "    </tr>\n",
       "    <tr>\n",
       "      <th>2</th>\n",
       "      <td>0000d48a8891cd462fdf01ea861ec53e</td>\n",
       "      <td>2016-12-01</td>\n",
       "      <td>4481.0</td>\n",
       "    </tr>\n",
       "    <tr>\n",
       "      <th>3</th>\n",
       "      <td>0000d48a8891cd462fdf01ea861ec53e</td>\n",
       "      <td>2016-12-10</td>\n",
       "      <td>2030.0</td>\n",
       "    </tr>\n",
       "    <tr>\n",
       "      <th>4</th>\n",
       "      <td>0000d48a8891cd462fdf01ea861ec53e</td>\n",
       "      <td>2016-12-13</td>\n",
       "      <td>1502.0</td>\n",
       "    </tr>\n",
       "    <tr>\n",
       "      <th>...</th>\n",
       "      <td>...</td>\n",
       "      <td>...</td>\n",
       "      <td>...</td>\n",
       "    </tr>\n",
       "    <tr>\n",
       "      <th>2480209</th>\n",
       "      <td>fffc477269ae5f219e39aa51fa7abb81</td>\n",
       "      <td>2017-05-14</td>\n",
       "      <td>3882.0</td>\n",
       "    </tr>\n",
       "    <tr>\n",
       "      <th>2480210</th>\n",
       "      <td>fffc477269ae5f219e39aa51fa7abb81</td>\n",
       "      <td>2017-06-20</td>\n",
       "      <td>6661.0</td>\n",
       "    </tr>\n",
       "    <tr>\n",
       "      <th>2480211</th>\n",
       "      <td>fffd3e78e3ea6bf00aee1372efc09dad</td>\n",
       "      <td>2016-10-11</td>\n",
       "      <td>1213.0</td>\n",
       "    </tr>\n",
       "    <tr>\n",
       "      <th>2480212</th>\n",
       "      <td>fffd3e78e3ea6bf00aee1372efc09dad</td>\n",
       "      <td>2016-12-03</td>\n",
       "      <td>220.0</td>\n",
       "    </tr>\n",
       "    <tr>\n",
       "      <th>2480213</th>\n",
       "      <td>fffd3e78e3ea6bf00aee1372efc09dad</td>\n",
       "      <td>2017-03-03</td>\n",
       "      <td>1221.0</td>\n",
       "    </tr>\n",
       "  </tbody>\n",
       "</table>\n",
       "<p>2480214 rows × 3 columns</p>\n",
       "</div>"
      ],
      "text/plain": [
       "                                client_id   chq_date  sales_sum\n",
       "0        0000d48a8891cd462fdf01ea861ec53e 2016-10-31     1655.0\n",
       "1        0000d48a8891cd462fdf01ea861ec53e 2016-11-20     2475.0\n",
       "2        0000d48a8891cd462fdf01ea861ec53e 2016-12-01     4481.0\n",
       "3        0000d48a8891cd462fdf01ea861ec53e 2016-12-10     2030.0\n",
       "4        0000d48a8891cd462fdf01ea861ec53e 2016-12-13     1502.0\n",
       "...                                   ...        ...        ...\n",
       "2480209  fffc477269ae5f219e39aa51fa7abb81 2017-05-14     3882.0\n",
       "2480210  fffc477269ae5f219e39aa51fa7abb81 2017-06-20     6661.0\n",
       "2480211  fffd3e78e3ea6bf00aee1372efc09dad 2016-10-11     1213.0\n",
       "2480212  fffd3e78e3ea6bf00aee1372efc09dad 2016-12-03      220.0\n",
       "2480213  fffd3e78e3ea6bf00aee1372efc09dad 2017-03-03     1221.0\n",
       "\n",
       "[2480214 rows x 3 columns]"
      ]
     },
     "execution_count": 9,
     "metadata": {},
     "output_type": "execute_result"
    }
   ],
   "source": [
    "data_for_analysis"
   ]
  },
  {
   "cell_type": "markdown",
   "metadata": {},
   "source": [
    "с таким датасетом работать будет попроще - всего около 2,5 млн. записей"
   ]
  },
  {
   "cell_type": "code",
   "execution_count": 10,
   "metadata": {},
   "outputs": [],
   "source": [
    "# освободим память, занятую основным датасетом\n",
    "del transactions_data"
   ]
  },
  {
   "cell_type": "code",
   "execution_count": 12,
   "metadata": {},
   "outputs": [],
   "source": [
    "# если поле \"chq_date\" было бы не типа \"datetime\", то нужно было бы сделать следующее преобразование:\n",
    "# data_for_analysis['chq_date'] = pd.to_datetime(data_for_analysis['chq_date'])"
   ]
  },
  {
   "cell_type": "markdown",
   "metadata": {},
   "source": [
    "само по себе кол-во покупок еще ни о чем не говорит, т.к. клиент мог совершать покупки несколько раз в начале анализируемого периода, а потом перестать покупать вообще, или наоборот - клиент новый и только сделал 1-2 покупки в конце анализируемого периода.\n",
    "получается, что самой важной информацией об оттоке клиентов будет дата последней покупки, и даже более информативно: кол-во дней с момента последней покупки до конца анализируемого периода.\n",
    "возможно, еще одной важной характеристикой будет периодичность, с которой клиент совершает покупки."
   ]
  },
  {
   "cell_type": "code",
   "execution_count": 13,
   "metadata": {},
   "outputs": [],
   "source": [
    "period_days = data_for_analysis.groupby('client_id').chq_date.apply(list).apply(np.diff).values"
   ]
  },
  {
   "cell_type": "code",
   "execution_count": 14,
   "metadata": {},
   "outputs": [],
   "source": [
    "period_days = pd.Series(np.concatenate(period_days, axis=0)).dt.days"
   ]
  },
  {
   "cell_type": "code",
   "execution_count": 15,
   "metadata": {},
   "outputs": [
    {
     "data": {
      "text/plain": [
       "0           20\n",
       "1           11\n",
       "2            9\n",
       "3            3\n",
       "4           14\n",
       "          ... \n",
       "2380209    138\n",
       "2380210     44\n",
       "2380211     37\n",
       "2380212     53\n",
       "2380213     90\n",
       "Length: 2380214, dtype: int64"
      ]
     },
     "execution_count": 15,
     "metadata": {},
     "output_type": "execute_result"
    }
   ],
   "source": [
    "period_days"
   ]
  },
  {
   "cell_type": "markdown",
   "metadata": {},
   "source": [
    "Для разбивки клиентов на группы попробуем применить классический RFM-анализ.\n",
    "R - Recency — количество времени (дней), прошедшего с момента последней покупки клиента.\n",
    "F - Frequency — частота покупок, их общее число.\n",
    "M - Monetary — общая сумма покупок клиента (за выбранный период)."
   ]
  },
  {
   "cell_type": "code",
   "execution_count": 16,
   "metadata": {},
   "outputs": [],
   "source": [
    "# сформируем таблицу для RFM-анализа\n",
    "data_RFM_analysis = data_for_analysis.groupby(['client_id'], as_index=False)\\\n",
    "    .agg({'chq_date': 'max', \n",
    "          'sales_sum': ['count','sum']})\n",
    "data_RFM_analysis.columns =['client', 'last_date', 'Frequency', 'Monetary']"
   ]
  },
  {
   "cell_type": "code",
   "execution_count": 17,
   "metadata": {},
   "outputs": [
    {
     "data": {
      "text/html": [
       "<div>\n",
       "<style scoped>\n",
       "    .dataframe tbody tr th:only-of-type {\n",
       "        vertical-align: middle;\n",
       "    }\n",
       "\n",
       "    .dataframe tbody tr th {\n",
       "        vertical-align: top;\n",
       "    }\n",
       "\n",
       "    .dataframe thead th {\n",
       "        text-align: right;\n",
       "    }\n",
       "</style>\n",
       "<table border=\"1\" class=\"dataframe\">\n",
       "  <thead>\n",
       "    <tr style=\"text-align: right;\">\n",
       "      <th></th>\n",
       "      <th>client</th>\n",
       "      <th>last_date</th>\n",
       "      <th>Frequency</th>\n",
       "      <th>Monetary</th>\n",
       "    </tr>\n",
       "  </thead>\n",
       "  <tbody>\n",
       "    <tr>\n",
       "      <th>0</th>\n",
       "      <td>0000d48a8891cd462fdf01ea861ec53e</td>\n",
       "      <td>2017-08-31</td>\n",
       "      <td>36</td>\n",
       "      <td>85898.00</td>\n",
       "    </tr>\n",
       "    <tr>\n",
       "      <th>1</th>\n",
       "      <td>00028a1dcb30863404a386961a69300e</td>\n",
       "      <td>2017-09-15</td>\n",
       "      <td>30</td>\n",
       "      <td>51916.00</td>\n",
       "    </tr>\n",
       "    <tr>\n",
       "      <th>2</th>\n",
       "      <td>0004274683494a9eca5e70ef97299d55</td>\n",
       "      <td>2017-10-04</td>\n",
       "      <td>151</td>\n",
       "      <td>101130.00</td>\n",
       "    </tr>\n",
       "    <tr>\n",
       "      <th>3</th>\n",
       "      <td>00072f81efcb3481861f7300c5e2a88a</td>\n",
       "      <td>2017-09-07</td>\n",
       "      <td>8</td>\n",
       "      <td>5125.00</td>\n",
       "    </tr>\n",
       "    <tr>\n",
       "      <th>4</th>\n",
       "      <td>00076596eb749cf10c2e984621dffe95</td>\n",
       "      <td>2017-10-04</td>\n",
       "      <td>131</td>\n",
       "      <td>203833.46</td>\n",
       "    </tr>\n",
       "    <tr>\n",
       "      <th>...</th>\n",
       "      <td>...</td>\n",
       "      <td>...</td>\n",
       "      <td>...</td>\n",
       "      <td>...</td>\n",
       "    </tr>\n",
       "    <tr>\n",
       "      <th>99995</th>\n",
       "      <td>fffb2f36eb72ff56d2ef7a2685714f01</td>\n",
       "      <td>2017-09-16</td>\n",
       "      <td>22</td>\n",
       "      <td>59813.00</td>\n",
       "    </tr>\n",
       "    <tr>\n",
       "      <th>99996</th>\n",
       "      <td>fffb50df95231c0f090b5aa3f5332c7f</td>\n",
       "      <td>2017-05-16</td>\n",
       "      <td>13</td>\n",
       "      <td>19016.00</td>\n",
       "    </tr>\n",
       "    <tr>\n",
       "      <th>99997</th>\n",
       "      <td>fffc3f2be1422d248dbeda4196ef0711</td>\n",
       "      <td>2017-09-24</td>\n",
       "      <td>29</td>\n",
       "      <td>34752.00</td>\n",
       "    </tr>\n",
       "    <tr>\n",
       "      <th>99998</th>\n",
       "      <td>fffc477269ae5f219e39aa51fa7abb81</td>\n",
       "      <td>2017-06-20</td>\n",
       "      <td>5</td>\n",
       "      <td>40915.00</td>\n",
       "    </tr>\n",
       "    <tr>\n",
       "      <th>99999</th>\n",
       "      <td>fffd3e78e3ea6bf00aee1372efc09dad</td>\n",
       "      <td>2017-03-03</td>\n",
       "      <td>3</td>\n",
       "      <td>2654.00</td>\n",
       "    </tr>\n",
       "  </tbody>\n",
       "</table>\n",
       "<p>100000 rows × 4 columns</p>\n",
       "</div>"
      ],
      "text/plain": [
       "                                 client  last_date  Frequency   Monetary\n",
       "0      0000d48a8891cd462fdf01ea861ec53e 2017-08-31         36   85898.00\n",
       "1      00028a1dcb30863404a386961a69300e 2017-09-15         30   51916.00\n",
       "2      0004274683494a9eca5e70ef97299d55 2017-10-04        151  101130.00\n",
       "3      00072f81efcb3481861f7300c5e2a88a 2017-09-07          8    5125.00\n",
       "4      00076596eb749cf10c2e984621dffe95 2017-10-04        131  203833.46\n",
       "...                                 ...        ...        ...        ...\n",
       "99995  fffb2f36eb72ff56d2ef7a2685714f01 2017-09-16         22   59813.00\n",
       "99996  fffb50df95231c0f090b5aa3f5332c7f 2017-05-16         13   19016.00\n",
       "99997  fffc3f2be1422d248dbeda4196ef0711 2017-09-24         29   34752.00\n",
       "99998  fffc477269ae5f219e39aa51fa7abb81 2017-06-20          5   40915.00\n",
       "99999  fffd3e78e3ea6bf00aee1372efc09dad 2017-03-03          3    2654.00\n",
       "\n",
       "[100000 rows x 4 columns]"
      ]
     },
     "execution_count": 17,
     "metadata": {},
     "output_type": "execute_result"
    }
   ],
   "source": [
    "data_RFM_analysis"
   ]
  },
  {
   "cell_type": "code",
   "execution_count": 18,
   "metadata": {},
   "outputs": [],
   "source": [
    "# для каждого клиента посчитаем количество дней, прошедших со дня последней покупки (до конца анализируемого периода) - Recency\n",
    "max_date = data_for_analysis.chq_date.max()\n",
    "data_RFM_analysis['max_date'] = max_date\n",
    "data_RFM_analysis['Recency'] = (data_RFM_analysis['max_date'] - data_RFM_analysis['last_date']).dt.days\n",
    "data_RFM_analysis.drop('max_date', axis = 1, inplace = True)\n",
    "# last_date пока оставим"
   ]
  },
  {
   "cell_type": "code",
   "execution_count": 19,
   "metadata": {},
   "outputs": [],
   "source": []
  },
  {
   "cell_type": "code",
   "execution_count": 20,
   "metadata": {},
   "outputs": [
    {
     "data": {
      "text/html": [
       "<div>\n",
       "<style scoped>\n",
       "    .dataframe tbody tr th:only-of-type {\n",
       "        vertical-align: middle;\n",
       "    }\n",
       "\n",
       "    .dataframe tbody tr th {\n",
       "        vertical-align: top;\n",
       "    }\n",
       "\n",
       "    .dataframe thead th {\n",
       "        text-align: right;\n",
       "    }\n",
       "</style>\n",
       "<table border=\"1\" class=\"dataframe\">\n",
       "  <thead>\n",
       "    <tr style=\"text-align: right;\">\n",
       "      <th></th>\n",
       "      <th>client</th>\n",
       "      <th>last_date</th>\n",
       "      <th>Frequency</th>\n",
       "      <th>Monetary</th>\n",
       "      <th>Recency</th>\n",
       "      <th>mean_sales</th>\n",
       "    </tr>\n",
       "  </thead>\n",
       "  <tbody>\n",
       "    <tr>\n",
       "      <th>0</th>\n",
       "      <td>0000d48a8891cd462fdf01ea861ec53e</td>\n",
       "      <td>2017-08-31</td>\n",
       "      <td>36</td>\n",
       "      <td>85898.00</td>\n",
       "      <td>34</td>\n",
       "      <td>2386.055556</td>\n",
       "    </tr>\n",
       "    <tr>\n",
       "      <th>1</th>\n",
       "      <td>00028a1dcb30863404a386961a69300e</td>\n",
       "      <td>2017-09-15</td>\n",
       "      <td>30</td>\n",
       "      <td>51916.00</td>\n",
       "      <td>19</td>\n",
       "      <td>1730.533333</td>\n",
       "    </tr>\n",
       "    <tr>\n",
       "      <th>2</th>\n",
       "      <td>0004274683494a9eca5e70ef97299d55</td>\n",
       "      <td>2017-10-04</td>\n",
       "      <td>151</td>\n",
       "      <td>101130.00</td>\n",
       "      <td>0</td>\n",
       "      <td>669.735099</td>\n",
       "    </tr>\n",
       "    <tr>\n",
       "      <th>3</th>\n",
       "      <td>00072f81efcb3481861f7300c5e2a88a</td>\n",
       "      <td>2017-09-07</td>\n",
       "      <td>8</td>\n",
       "      <td>5125.00</td>\n",
       "      <td>27</td>\n",
       "      <td>640.625000</td>\n",
       "    </tr>\n",
       "    <tr>\n",
       "      <th>4</th>\n",
       "      <td>00076596eb749cf10c2e984621dffe95</td>\n",
       "      <td>2017-10-04</td>\n",
       "      <td>131</td>\n",
       "      <td>203833.46</td>\n",
       "      <td>0</td>\n",
       "      <td>1555.980611</td>\n",
       "    </tr>\n",
       "    <tr>\n",
       "      <th>...</th>\n",
       "      <td>...</td>\n",
       "      <td>...</td>\n",
       "      <td>...</td>\n",
       "      <td>...</td>\n",
       "      <td>...</td>\n",
       "      <td>...</td>\n",
       "    </tr>\n",
       "    <tr>\n",
       "      <th>99995</th>\n",
       "      <td>fffb2f36eb72ff56d2ef7a2685714f01</td>\n",
       "      <td>2017-09-16</td>\n",
       "      <td>22</td>\n",
       "      <td>59813.00</td>\n",
       "      <td>18</td>\n",
       "      <td>2718.772727</td>\n",
       "    </tr>\n",
       "    <tr>\n",
       "      <th>99996</th>\n",
       "      <td>fffb50df95231c0f090b5aa3f5332c7f</td>\n",
       "      <td>2017-05-16</td>\n",
       "      <td>13</td>\n",
       "      <td>19016.00</td>\n",
       "      <td>141</td>\n",
       "      <td>1462.769231</td>\n",
       "    </tr>\n",
       "    <tr>\n",
       "      <th>99997</th>\n",
       "      <td>fffc3f2be1422d248dbeda4196ef0711</td>\n",
       "      <td>2017-09-24</td>\n",
       "      <td>29</td>\n",
       "      <td>34752.00</td>\n",
       "      <td>10</td>\n",
       "      <td>1198.344828</td>\n",
       "    </tr>\n",
       "    <tr>\n",
       "      <th>99998</th>\n",
       "      <td>fffc477269ae5f219e39aa51fa7abb81</td>\n",
       "      <td>2017-06-20</td>\n",
       "      <td>5</td>\n",
       "      <td>40915.00</td>\n",
       "      <td>106</td>\n",
       "      <td>8183.000000</td>\n",
       "    </tr>\n",
       "    <tr>\n",
       "      <th>99999</th>\n",
       "      <td>fffd3e78e3ea6bf00aee1372efc09dad</td>\n",
       "      <td>2017-03-03</td>\n",
       "      <td>3</td>\n",
       "      <td>2654.00</td>\n",
       "      <td>215</td>\n",
       "      <td>884.666667</td>\n",
       "    </tr>\n",
       "  </tbody>\n",
       "</table>\n",
       "<p>100000 rows × 6 columns</p>\n",
       "</div>"
      ],
      "text/plain": [
       "                                 client  last_date  Frequency   Monetary  \\\n",
       "0      0000d48a8891cd462fdf01ea861ec53e 2017-08-31         36   85898.00   \n",
       "1      00028a1dcb30863404a386961a69300e 2017-09-15         30   51916.00   \n",
       "2      0004274683494a9eca5e70ef97299d55 2017-10-04        151  101130.00   \n",
       "3      00072f81efcb3481861f7300c5e2a88a 2017-09-07          8    5125.00   \n",
       "4      00076596eb749cf10c2e984621dffe95 2017-10-04        131  203833.46   \n",
       "...                                 ...        ...        ...        ...   \n",
       "99995  fffb2f36eb72ff56d2ef7a2685714f01 2017-09-16         22   59813.00   \n",
       "99996  fffb50df95231c0f090b5aa3f5332c7f 2017-05-16         13   19016.00   \n",
       "99997  fffc3f2be1422d248dbeda4196ef0711 2017-09-24         29   34752.00   \n",
       "99998  fffc477269ae5f219e39aa51fa7abb81 2017-06-20          5   40915.00   \n",
       "99999  fffd3e78e3ea6bf00aee1372efc09dad 2017-03-03          3    2654.00   \n",
       "\n",
       "       Recency   mean_sales  \n",
       "0           34  2386.055556  \n",
       "1           19  1730.533333  \n",
       "2            0   669.735099  \n",
       "3           27   640.625000  \n",
       "4            0  1555.980611  \n",
       "...        ...          ...  \n",
       "99995       18  2718.772727  \n",
       "99996      141  1462.769231  \n",
       "99997       10  1198.344828  \n",
       "99998      106  8183.000000  \n",
       "99999      215   884.666667  \n",
       "\n",
       "[100000 rows x 6 columns]"
      ]
     },
     "execution_count": 20,
     "metadata": {},
     "output_type": "execute_result"
    }
   ],
   "source": [
    "data_RFM_analysis"
   ]
  },
  {
   "cell_type": "code",
   "execution_count": 21,
   "metadata": {},
   "outputs": [
    {
     "data": {
      "text/plain": [
       "<AxesSubplot:ylabel='Frequency'>"
      ]
     },
     "execution_count": 21,
     "metadata": {},
     "output_type": "execute_result"
    },
    {
     "data": {
      "image/png": "[encoded data removed]",
      "text/plain": [
       "<Figure size 864x576 with 1 Axes>"
      ]
     },
     "metadata": {
      "needs_background": "light"
     },
     "output_type": "display_data"
    }
   ],
   "source": [
    "data_RFM_analysis['Recency'].plot(kind=\"hist\", figsize=(12,8))"
   ]
  },
  {
   "cell_type": "code",
   "execution_count": 26,
   "metadata": {},
   "outputs": [
    {
     "name": "stdout",
     "output_type": "stream",
     "text": [
      "9.0 :: 54.0\n"
     ]
    }
   ],
   "source": [
    "# разобьем всех клиентов на три группы по показателю Recency\n",
    "R33 = data_RFM_analysis['Recency'].quantile(0.33)\n",
    "R66 = data_RFM_analysis['Recency'].quantile(0.66)\n",
    "print(R33, '::', R66)"
   ]
  },
  {
   "cell_type": "code",
   "execution_count": 27,
   "metadata": {},
   "outputs": [],
   "source": [
    "# 1 — давние\n",
    "# 2 — «спящие» (относительно недавние)\n",
    "# 3 — недавние\n",
    "\n",
    "data_RFM_analysis['R'] = data_RFM_analysis.apply(\n",
    "    lambda x: 3 if x.Recency <= R33 else (2 if x.Recency <= R66 else 1),\n",
    "    axis=1)"
   ]
  },
  {
   "cell_type": "code",
   "execution_count": 28,
   "metadata": {},
   "outputs": [
    {
     "data": {
      "text/plain": [
       "<AxesSubplot:ylabel='Frequency'>"
      ]
     },
     "execution_count": 28,
     "metadata": {},
     "output_type": "execute_result"
    },
    {
     "data": {
      "image/png": "[encoded data removed]",
      "text/plain": [
       "<Figure size 864x576 with 1 Axes>"
      ]
     },
     "metadata": {
      "needs_background": "light"
     },
     "output_type": "display_data"
    }
   ],
   "source": [
    "data_RFM_analysis['Frequency'].plot(kind=\"hist\", figsize=(12,8))"
   ]
  },
  {
   "cell_type": "code",
   "execution_count": 29,
   "metadata": {},
   "outputs": [
    {
     "name": "stdout",
     "output_type": "stream",
     "text": [
      "10.0 :: 25.0\n"
     ]
    }
   ],
   "source": [
    "# разобьем всех клиентов на три группы по показателю Frequency\n",
    "F33 = data_RFM_analysis['Frequency'].quantile(0.33)\n",
    "F66 = data_RFM_analysis['Frequency'].quantile(0.66)\n",
    "print(F33, '::', F66)"
   ]
  },
  {
   "cell_type": "code",
   "execution_count": 30,
   "metadata": {},
   "outputs": [],
   "source": [
    "# 1 — разовые\n",
    "# 2 — редкие\n",
    "# 3 — частые\n",
    "\n",
    "data_RFM_analysis['F'] = data_RFM_analysis.apply(\n",
    "    lambda x: 1 if x.Frequency <= F33 else (2 if x.Frequency <= F66 else 3),\n",
    "    axis=1)"
   ]
  },
  {
   "cell_type": "code",
   "execution_count": 31,
   "metadata": {},
   "outputs": [
    {
     "data": {
      "text/plain": [
       "<AxesSubplot:ylabel='Frequency'>"
      ]
     },
     "execution_count": 31,
     "metadata": {},
     "output_type": "execute_result"
    },
    {
     "data": {
      "image/png": "[encoded data removed]",
      "text/plain": [
       "<Figure size 864x576 with 1 Axes>"
      ]
     },
     "metadata": {
      "needs_background": "light"
     },
     "output_type": "display_data"
    }
   ],
   "source": [
    "data_RFM_analysis['Monetary'].plot(kind=\"hist\", figsize=(12,8))"
   ]
  },
  {
   "cell_type": "code",
   "execution_count": null,
   "metadata": {},
   "outputs": [],
   "source": []
  },
  {
   "cell_type": "code",
   "execution_count": 32,
   "metadata": {},
   "outputs": [
    {
     "name": "stdout",
     "output_type": "stream",
     "text": [
      "12932.0 :: 37113.22439999999\n"
     ]
    }
   ],
   "source": [
    "# разобьем всех клиентов на три группы по показателю Monetary\n",
    "M33 = data_RFM_analysis['Monetary'].quantile(0.33)\n",
    "M66 = data_RFM_analysis['Monetary'].quantile(0.66)\n",
    "print(M33, '::', M66)"
   ]
  },
  {
   "cell_type": "code",
   "execution_count": 33,
   "metadata": {},
   "outputs": [],
   "source": [
    "# 1 — небольшие покупки\n",
    "# 2 — средние покупки\n",
    "# 3 — большие покупки\n",
    "\n",
    "data_RFM_analysis['M'] = data_RFM_analysis.apply(\n",
    "    lambda x: 1 if x.Monetary <= M33 else (2 if x.Monetary <= M66 else 3),\n",
    "    axis=1)"
   ]
  },
  {
   "cell_type": "code",
   "execution_count": 34,
   "metadata": {},
   "outputs": [
    {
     "data": {
      "text/html": [
       "<div>\n",
       "<style scoped>\n",
       "    .dataframe tbody tr th:only-of-type {\n",
       "        vertical-align: middle;\n",
       "    }\n",
       "\n",
       "    .dataframe tbody tr th {\n",
       "        vertical-align: top;\n",
       "    }\n",
       "\n",
       "    .dataframe thead th {\n",
       "        text-align: right;\n",
       "    }\n",
       "</style>\n",
       "<table border=\"1\" class=\"dataframe\">\n",
       "  <thead>\n",
       "    <tr style=\"text-align: right;\">\n",
       "      <th></th>\n",
       "      <th>client</th>\n",
       "      <th>last_date</th>\n",
       "      <th>Frequency</th>\n",
       "      <th>Monetary</th>\n",
       "      <th>Recency</th>\n",
       "      <th>mean_sales</th>\n",
       "      <th>R</th>\n",
       "      <th>F</th>\n",
       "      <th>M</th>\n",
       "    </tr>\n",
       "  </thead>\n",
       "  <tbody>\n",
       "    <tr>\n",
       "      <th>0</th>\n",
       "      <td>0000d48a8891cd462fdf01ea861ec53e</td>\n",
       "      <td>2017-08-31</td>\n",
       "      <td>36</td>\n",
       "      <td>85898.00</td>\n",
       "      <td>34</td>\n",
       "      <td>2386.055556</td>\n",
       "      <td>2</td>\n",
       "      <td>3</td>\n",
       "      <td>3</td>\n",
       "    </tr>\n",
       "    <tr>\n",
       "      <th>1</th>\n",
       "      <td>00028a1dcb30863404a386961a69300e</td>\n",
       "      <td>2017-09-15</td>\n",
       "      <td>30</td>\n",
       "      <td>51916.00</td>\n",
       "      <td>19</td>\n",
       "      <td>1730.533333</td>\n",
       "      <td>2</td>\n",
       "      <td>3</td>\n",
       "      <td>3</td>\n",
       "    </tr>\n",
       "    <tr>\n",
       "      <th>2</th>\n",
       "      <td>0004274683494a9eca5e70ef97299d55</td>\n",
       "      <td>2017-10-04</td>\n",
       "      <td>151</td>\n",
       "      <td>101130.00</td>\n",
       "      <td>0</td>\n",
       "      <td>669.735099</td>\n",
       "      <td>3</td>\n",
       "      <td>3</td>\n",
       "      <td>3</td>\n",
       "    </tr>\n",
       "    <tr>\n",
       "      <th>3</th>\n",
       "      <td>00072f81efcb3481861f7300c5e2a88a</td>\n",
       "      <td>2017-09-07</td>\n",
       "      <td>8</td>\n",
       "      <td>5125.00</td>\n",
       "      <td>27</td>\n",
       "      <td>640.625000</td>\n",
       "      <td>2</td>\n",
       "      <td>1</td>\n",
       "      <td>1</td>\n",
       "    </tr>\n",
       "    <tr>\n",
       "      <th>4</th>\n",
       "      <td>00076596eb749cf10c2e984621dffe95</td>\n",
       "      <td>2017-10-04</td>\n",
       "      <td>131</td>\n",
       "      <td>203833.46</td>\n",
       "      <td>0</td>\n",
       "      <td>1555.980611</td>\n",
       "      <td>3</td>\n",
       "      <td>3</td>\n",
       "      <td>3</td>\n",
       "    </tr>\n",
       "    <tr>\n",
       "      <th>...</th>\n",
       "      <td>...</td>\n",
       "      <td>...</td>\n",
       "      <td>...</td>\n",
       "      <td>...</td>\n",
       "      <td>...</td>\n",
       "      <td>...</td>\n",
       "      <td>...</td>\n",
       "      <td>...</td>\n",
       "      <td>...</td>\n",
       "    </tr>\n",
       "    <tr>\n",
       "      <th>99995</th>\n",
       "      <td>fffb2f36eb72ff56d2ef7a2685714f01</td>\n",
       "      <td>2017-09-16</td>\n",
       "      <td>22</td>\n",
       "      <td>59813.00</td>\n",
       "      <td>18</td>\n",
       "      <td>2718.772727</td>\n",
       "      <td>2</td>\n",
       "      <td>2</td>\n",
       "      <td>3</td>\n",
       "    </tr>\n",
       "    <tr>\n",
       "      <th>99996</th>\n",
       "      <td>fffb50df95231c0f090b5aa3f5332c7f</td>\n",
       "      <td>2017-05-16</td>\n",
       "      <td>13</td>\n",
       "      <td>19016.00</td>\n",
       "      <td>141</td>\n",
       "      <td>1462.769231</td>\n",
       "      <td>1</td>\n",
       "      <td>2</td>\n",
       "      <td>2</td>\n",
       "    </tr>\n",
       "    <tr>\n",
       "      <th>99997</th>\n",
       "      <td>fffc3f2be1422d248dbeda4196ef0711</td>\n",
       "      <td>2017-09-24</td>\n",
       "      <td>29</td>\n",
       "      <td>34752.00</td>\n",
       "      <td>10</td>\n",
       "      <td>1198.344828</td>\n",
       "      <td>2</td>\n",
       "      <td>3</td>\n",
       "      <td>2</td>\n",
       "    </tr>\n",
       "    <tr>\n",
       "      <th>99998</th>\n",
       "      <td>fffc477269ae5f219e39aa51fa7abb81</td>\n",
       "      <td>2017-06-20</td>\n",
       "      <td>5</td>\n",
       "      <td>40915.00</td>\n",
       "      <td>106</td>\n",
       "      <td>8183.000000</td>\n",
       "      <td>1</td>\n",
       "      <td>1</td>\n",
       "      <td>3</td>\n",
       "    </tr>\n",
       "    <tr>\n",
       "      <th>99999</th>\n",
       "      <td>fffd3e78e3ea6bf00aee1372efc09dad</td>\n",
       "      <td>2017-03-03</td>\n",
       "      <td>3</td>\n",
       "      <td>2654.00</td>\n",
       "      <td>215</td>\n",
       "      <td>884.666667</td>\n",
       "      <td>1</td>\n",
       "      <td>1</td>\n",
       "      <td>1</td>\n",
       "    </tr>\n",
       "  </tbody>\n",
       "</table>\n",
       "<p>100000 rows × 9 columns</p>\n",
       "</div>"
      ],
      "text/plain": [
       "                                 client  last_date  Frequency   Monetary  \\\n",
       "0      0000d48a8891cd462fdf01ea861ec53e 2017-08-31         36   85898.00   \n",
       "1      00028a1dcb30863404a386961a69300e 2017-09-15         30   51916.00   \n",
       "2      0004274683494a9eca5e70ef97299d55 2017-10-04        151  101130.00   \n",
       "3      00072f81efcb3481861f7300c5e2a88a 2017-09-07          8    5125.00   \n",
       "4      00076596eb749cf10c2e984621dffe95 2017-10-04        131  203833.46   \n",
       "...                                 ...        ...        ...        ...   \n",
       "99995  fffb2f36eb72ff56d2ef7a2685714f01 2017-09-16         22   59813.00   \n",
       "99996  fffb50df95231c0f090b5aa3f5332c7f 2017-05-16         13   19016.00   \n",
       "99997  fffc3f2be1422d248dbeda4196ef0711 2017-09-24         29   34752.00   \n",
       "99998  fffc477269ae5f219e39aa51fa7abb81 2017-06-20          5   40915.00   \n",
       "99999  fffd3e78e3ea6bf00aee1372efc09dad 2017-03-03          3    2654.00   \n",
       "\n",
       "       Recency   mean_sales  R  F  M  \n",
       "0           34  2386.055556  2  3  3  \n",
       "1           19  1730.533333  2  3  3  \n",
       "2            0   669.735099  3  3  3  \n",
       "3           27   640.625000  2  1  1  \n",
       "4            0  1555.980611  3  3  3  \n",
       "...        ...          ... .. .. ..  \n",
       "99995       18  2718.772727  2  2  3  \n",
       "99996      141  1462.769231  1  2  2  \n",
       "99997       10  1198.344828  2  3  2  \n",
       "99998      106  8183.000000  1  1  3  \n",
       "99999      215   884.666667  1  1  1  \n",
       "\n",
       "[100000 rows x 9 columns]"
      ]
     },
     "execution_count": 34,
     "metadata": {},
     "output_type": "execute_result"
    }
   ],
   "source": [
    "data_RFM_analysis"
   ]
  },
  {
   "cell_type": "code",
   "execution_count": 35,
   "metadata": {},
   "outputs": [],
   "source": [
    "#  рассчитаем RFM-код для каждого клиента\n",
    "data_RFM_analysis['RFM'] = data_RFM_analysis['R']*100 + data_RFM_analysis['F']*10 + data_RFM_analysis['M']"
   ]
  },
  {
   "cell_type": "code",
   "execution_count": 37,
   "metadata": {},
   "outputs": [
    {
     "data": {
      "text/html": [
       "<div>\n",
       "<style scoped>\n",
       "    .dataframe tbody tr th:only-of-type {\n",
       "        vertical-align: middle;\n",
       "    }\n",
       "\n",
       "    .dataframe tbody tr th {\n",
       "        vertical-align: top;\n",
       "    }\n",
       "\n",
       "    .dataframe thead th {\n",
       "        text-align: right;\n",
       "    }\n",
       "</style>\n",
       "<table border=\"1\" class=\"dataframe\">\n",
       "  <thead>\n",
       "    <tr style=\"text-align: right;\">\n",
       "      <th></th>\n",
       "      <th>client</th>\n",
       "      <th>last_date</th>\n",
       "      <th>Frequency</th>\n",
       "      <th>Monetary</th>\n",
       "      <th>Recency</th>\n",
       "      <th>mean_sales</th>\n",
       "      <th>R</th>\n",
       "      <th>F</th>\n",
       "      <th>M</th>\n",
       "      <th>RFM</th>\n",
       "    </tr>\n",
       "  </thead>\n",
       "  <tbody>\n",
       "    <tr>\n",
       "      <th>0</th>\n",
       "      <td>0000d48a8891cd462fdf01ea861ec53e</td>\n",
       "      <td>2017-08-31</td>\n",
       "      <td>36</td>\n",
       "      <td>85898.00</td>\n",
       "      <td>34</td>\n",
       "      <td>2386.055556</td>\n",
       "      <td>2</td>\n",
       "      <td>3</td>\n",
       "      <td>3</td>\n",
       "      <td>233</td>\n",
       "    </tr>\n",
       "    <tr>\n",
       "      <th>1</th>\n",
       "      <td>00028a1dcb30863404a386961a69300e</td>\n",
       "      <td>2017-09-15</td>\n",
       "      <td>30</td>\n",
       "      <td>51916.00</td>\n",
       "      <td>19</td>\n",
       "      <td>1730.533333</td>\n",
       "      <td>2</td>\n",
       "      <td>3</td>\n",
       "      <td>3</td>\n",
       "      <td>233</td>\n",
       "    </tr>\n",
       "    <tr>\n",
       "      <th>2</th>\n",
       "      <td>0004274683494a9eca5e70ef97299d55</td>\n",
       "      <td>2017-10-04</td>\n",
       "      <td>151</td>\n",
       "      <td>101130.00</td>\n",
       "      <td>0</td>\n",
       "      <td>669.735099</td>\n",
       "      <td>3</td>\n",
       "      <td>3</td>\n",
       "      <td>3</td>\n",
       "      <td>333</td>\n",
       "    </tr>\n",
       "    <tr>\n",
       "      <th>3</th>\n",
       "      <td>00072f81efcb3481861f7300c5e2a88a</td>\n",
       "      <td>2017-09-07</td>\n",
       "      <td>8</td>\n",
       "      <td>5125.00</td>\n",
       "      <td>27</td>\n",
       "      <td>640.625000</td>\n",
       "      <td>2</td>\n",
       "      <td>1</td>\n",
       "      <td>1</td>\n",
       "      <td>211</td>\n",
       "    </tr>\n",
       "    <tr>\n",
       "      <th>4</th>\n",
       "      <td>00076596eb749cf10c2e984621dffe95</td>\n",
       "      <td>2017-10-04</td>\n",
       "      <td>131</td>\n",
       "      <td>203833.46</td>\n",
       "      <td>0</td>\n",
       "      <td>1555.980611</td>\n",
       "      <td>3</td>\n",
       "      <td>3</td>\n",
       "      <td>3</td>\n",
       "      <td>333</td>\n",
       "    </tr>\n",
       "    <tr>\n",
       "      <th>...</th>\n",
       "      <td>...</td>\n",
       "      <td>...</td>\n",
       "      <td>...</td>\n",
       "      <td>...</td>\n",
       "      <td>...</td>\n",
       "      <td>...</td>\n",
       "      <td>...</td>\n",
       "      <td>...</td>\n",
       "      <td>...</td>\n",
       "      <td>...</td>\n",
       "    </tr>\n",
       "    <tr>\n",
       "      <th>99995</th>\n",
       "      <td>fffb2f36eb72ff56d2ef7a2685714f01</td>\n",
       "      <td>2017-09-16</td>\n",
       "      <td>22</td>\n",
       "      <td>59813.00</td>\n",
       "      <td>18</td>\n",
       "      <td>2718.772727</td>\n",
       "      <td>2</td>\n",
       "      <td>2</td>\n",
       "      <td>3</td>\n",
       "      <td>223</td>\n",
       "    </tr>\n",
       "    <tr>\n",
       "      <th>99996</th>\n",
       "      <td>fffb50df95231c0f090b5aa3f5332c7f</td>\n",
       "      <td>2017-05-16</td>\n",
       "      <td>13</td>\n",
       "      <td>19016.00</td>\n",
       "      <td>141</td>\n",
       "      <td>1462.769231</td>\n",
       "      <td>1</td>\n",
       "      <td>2</td>\n",
       "      <td>2</td>\n",
       "      <td>122</td>\n",
       "    </tr>\n",
       "    <tr>\n",
       "      <th>99997</th>\n",
       "      <td>fffc3f2be1422d248dbeda4196ef0711</td>\n",
       "      <td>2017-09-24</td>\n",
       "      <td>29</td>\n",
       "      <td>34752.00</td>\n",
       "      <td>10</td>\n",
       "      <td>1198.344828</td>\n",
       "      <td>2</td>\n",
       "      <td>3</td>\n",
       "      <td>2</td>\n",
       "      <td>232</td>\n",
       "    </tr>\n",
       "    <tr>\n",
       "      <th>99998</th>\n",
       "      <td>fffc477269ae5f219e39aa51fa7abb81</td>\n",
       "      <td>2017-06-20</td>\n",
       "      <td>5</td>\n",
       "      <td>40915.00</td>\n",
       "      <td>106</td>\n",
       "      <td>8183.000000</td>\n",
       "      <td>1</td>\n",
       "      <td>1</td>\n",
       "      <td>3</td>\n",
       "      <td>113</td>\n",
       "    </tr>\n",
       "    <tr>\n",
       "      <th>99999</th>\n",
       "      <td>fffd3e78e3ea6bf00aee1372efc09dad</td>\n",
       "      <td>2017-03-03</td>\n",
       "      <td>3</td>\n",
       "      <td>2654.00</td>\n",
       "      <td>215</td>\n",
       "      <td>884.666667</td>\n",
       "      <td>1</td>\n",
       "      <td>1</td>\n",
       "      <td>1</td>\n",
       "      <td>111</td>\n",
       "    </tr>\n",
       "  </tbody>\n",
       "</table>\n",
       "<p>100000 rows × 10 columns</p>\n",
       "</div>"
      ],
      "text/plain": [
       "                                 client  last_date  Frequency   Monetary  \\\n",
       "0      0000d48a8891cd462fdf01ea861ec53e 2017-08-31         36   85898.00   \n",
       "1      00028a1dcb30863404a386961a69300e 2017-09-15         30   51916.00   \n",
       "2      0004274683494a9eca5e70ef97299d55 2017-10-04        151  101130.00   \n",
       "3      00072f81efcb3481861f7300c5e2a88a 2017-09-07          8    5125.00   \n",
       "4      00076596eb749cf10c2e984621dffe95 2017-10-04        131  203833.46   \n",
       "...                                 ...        ...        ...        ...   \n",
       "99995  fffb2f36eb72ff56d2ef7a2685714f01 2017-09-16         22   59813.00   \n",
       "99996  fffb50df95231c0f090b5aa3f5332c7f 2017-05-16         13   19016.00   \n",
       "99997  fffc3f2be1422d248dbeda4196ef0711 2017-09-24         29   34752.00   \n",
       "99998  fffc477269ae5f219e39aa51fa7abb81 2017-06-20          5   40915.00   \n",
       "99999  fffd3e78e3ea6bf00aee1372efc09dad 2017-03-03          3    2654.00   \n",
       "\n",
       "       Recency   mean_sales  R  F  M  RFM  \n",
       "0           34  2386.055556  2  3  3  233  \n",
       "1           19  1730.533333  2  3  3  233  \n",
       "2            0   669.735099  3  3  3  333  \n",
       "3           27   640.625000  2  1  1  211  \n",
       "4            0  1555.980611  3  3  3  333  \n",
       "...        ...          ... .. .. ..  ...  \n",
       "99995       18  2718.772727  2  2  3  223  \n",
       "99996      141  1462.769231  1  2  2  122  \n",
       "99997       10  1198.344828  2  3  2  232  \n",
       "99998      106  8183.000000  1  1  3  113  \n",
       "99999      215   884.666667  1  1  1  111  \n",
       "\n",
       "[100000 rows x 10 columns]"
      ]
     },
     "execution_count": 37,
     "metadata": {},
     "output_type": "execute_result"
    }
   ],
   "source": [
    "data_RFM_analysis"
   ]
  },
  {
   "cell_type": "code",
   "execution_count": 38,
   "metadata": {},
   "outputs": [
    {
     "data": {
      "text/html": [
       "<div>\n",
       "<style scoped>\n",
       "    .dataframe tbody tr th:only-of-type {\n",
       "        vertical-align: middle;\n",
       "    }\n",
       "\n",
       "    .dataframe tbody tr th {\n",
       "        vertical-align: top;\n",
       "    }\n",
       "\n",
       "    .dataframe thead th {\n",
       "        text-align: right;\n",
       "    }\n",
       "</style>\n",
       "<table border=\"1\" class=\"dataframe\">\n",
       "  <thead>\n",
       "    <tr style=\"text-align: right;\">\n",
       "      <th></th>\n",
       "      <th>RFM</th>\n",
       "      <th>client</th>\n",
       "    </tr>\n",
       "  </thead>\n",
       "  <tbody>\n",
       "    <tr>\n",
       "      <th>0</th>\n",
       "      <td>111</td>\n",
       "      <td>18258</td>\n",
       "    </tr>\n",
       "    <tr>\n",
       "      <th>1</th>\n",
       "      <td>112</td>\n",
       "      <td>4812</td>\n",
       "    </tr>\n",
       "    <tr>\n",
       "      <th>2</th>\n",
       "      <td>113</td>\n",
       "      <td>426</td>\n",
       "    </tr>\n",
       "    <tr>\n",
       "      <th>3</th>\n",
       "      <td>121</td>\n",
       "      <td>2530</td>\n",
       "    </tr>\n",
       "    <tr>\n",
       "      <th>4</th>\n",
       "      <td>122</td>\n",
       "      <td>3927</td>\n",
       "    </tr>\n",
       "    <tr>\n",
       "      <th>5</th>\n",
       "      <td>123</td>\n",
       "      <td>1415</td>\n",
       "    </tr>\n",
       "    <tr>\n",
       "      <th>6</th>\n",
       "      <td>131</td>\n",
       "      <td>253</td>\n",
       "    </tr>\n",
       "    <tr>\n",
       "      <th>7</th>\n",
       "      <td>132</td>\n",
       "      <td>960</td>\n",
       "    </tr>\n",
       "    <tr>\n",
       "      <th>8</th>\n",
       "      <td>133</td>\n",
       "      <td>1180</td>\n",
       "    </tr>\n",
       "    <tr>\n",
       "      <th>9</th>\n",
       "      <td>211</td>\n",
       "      <td>4904</td>\n",
       "    </tr>\n",
       "    <tr>\n",
       "      <th>10</th>\n",
       "      <td>212</td>\n",
       "      <td>3016</td>\n",
       "    </tr>\n",
       "    <tr>\n",
       "      <th>11</th>\n",
       "      <td>213</td>\n",
       "      <td>345</td>\n",
       "    </tr>\n",
       "    <tr>\n",
       "      <th>12</th>\n",
       "      <td>221</td>\n",
       "      <td>2656</td>\n",
       "    </tr>\n",
       "    <tr>\n",
       "      <th>13</th>\n",
       "      <td>222</td>\n",
       "      <td>7724</td>\n",
       "    </tr>\n",
       "    <tr>\n",
       "      <th>14</th>\n",
       "      <td>223</td>\n",
       "      <td>4306</td>\n",
       "    </tr>\n",
       "    <tr>\n",
       "      <th>15</th>\n",
       "      <td>231</td>\n",
       "      <td>341</td>\n",
       "    </tr>\n",
       "    <tr>\n",
       "      <th>16</th>\n",
       "      <td>232</td>\n",
       "      <td>2595</td>\n",
       "    </tr>\n",
       "    <tr>\n",
       "      <th>17</th>\n",
       "      <td>233</td>\n",
       "      <td>6229</td>\n",
       "    </tr>\n",
       "    <tr>\n",
       "      <th>18</th>\n",
       "      <td>311</td>\n",
       "      <td>1868</td>\n",
       "    </tr>\n",
       "    <tr>\n",
       "      <th>19</th>\n",
       "      <td>312</td>\n",
       "      <td>1132</td>\n",
       "    </tr>\n",
       "    <tr>\n",
       "      <th>20</th>\n",
       "      <td>313</td>\n",
       "      <td>149</td>\n",
       "    </tr>\n",
       "    <tr>\n",
       "      <th>21</th>\n",
       "      <td>321</td>\n",
       "      <td>1691</td>\n",
       "    </tr>\n",
       "    <tr>\n",
       "      <th>22</th>\n",
       "      <td>322</td>\n",
       "      <td>4795</td>\n",
       "    </tr>\n",
       "    <tr>\n",
       "      <th>23</th>\n",
       "      <td>323</td>\n",
       "      <td>3061</td>\n",
       "    </tr>\n",
       "    <tr>\n",
       "      <th>24</th>\n",
       "      <td>331</td>\n",
       "      <td>500</td>\n",
       "    </tr>\n",
       "    <tr>\n",
       "      <th>25</th>\n",
       "      <td>332</td>\n",
       "      <td>4038</td>\n",
       "    </tr>\n",
       "    <tr>\n",
       "      <th>26</th>\n",
       "      <td>333</td>\n",
       "      <td>16889</td>\n",
       "    </tr>\n",
       "  </tbody>\n",
       "</table>\n",
       "</div>"
      ],
      "text/plain": [
       "    RFM  client\n",
       "0   111   18258\n",
       "1   112    4812\n",
       "2   113     426\n",
       "3   121    2530\n",
       "4   122    3927\n",
       "5   123    1415\n",
       "6   131     253\n",
       "7   132     960\n",
       "8   133    1180\n",
       "9   211    4904\n",
       "10  212    3016\n",
       "11  213     345\n",
       "12  221    2656\n",
       "13  222    7724\n",
       "14  223    4306\n",
       "15  231     341\n",
       "16  232    2595\n",
       "17  233    6229\n",
       "18  311    1868\n",
       "19  312    1132\n",
       "20  313     149\n",
       "21  321    1691\n",
       "22  322    4795\n",
       "23  323    3061\n",
       "24  331     500\n",
       "25  332    4038\n",
       "26  333   16889"
      ]
     },
     "execution_count": 38,
     "metadata": {},
     "output_type": "execute_result"
    }
   ],
   "source": [
    "# посмотрим как клиенты распределились по группам (сколько клиентов в каждой группе)\n",
    "data_RFM_analysis.groupby('RFM', as_index=False).client.count()"
   ]
  },
  {
   "cell_type": "code",
   "execution_count": 82,
   "metadata": {},
   "outputs": [
    {
     "data": {
      "text/plain": [
       "<AxesSubplot:ylabel='client'>"
      ]
     },
     "execution_count": 82,
     "metadata": {},
     "output_type": "execute_result"
    },
    {
     "data": {
      "image/png": "[encoded data removed]",
      "text/plain": [
       "<Figure size 864x576 with 1 Axes>"
      ]
     },
     "metadata": {},
     "output_type": "display_data"
    }
   ],
   "source": [
    "data_RFM_analysis.groupby('RFM').client.count().plot(kind=\"pie\", figsize=(12,8))"
   ]
  },
  {
   "cell_type": "markdown",
   "metadata": {},
   "source": [
    "Наблюдается перекос с количеством клиентов попавших в группы 111 и 333."
   ]
  },
  {
   "cell_type": "markdown",
   "metadata": {},
   "source": [
    "Посмотрим как связаны величины Recency (давность последней покупки) и Monetary (Общая сумма всех покупок)"
   ]
  },
  {
   "cell_type": "code",
   "execution_count": 39,
   "metadata": {},
   "outputs": [
    {
     "data": {
      "text/plain": [
       "<AxesSubplot:xlabel='Recency', ylabel='Monetary'>"
      ]
     },
     "execution_count": 39,
     "metadata": {},
     "output_type": "execute_result"
    },
    {
     "data": {
      "image/png": "[encoded data removed]",
      "text/plain": [
       "<Figure size 864x576 with 1 Axes>"
      ]
     },
     "metadata": {
      "needs_background": "light"
     },
     "output_type": "display_data"
    }
   ],
   "source": [
    "data_RFM_analysis.plot(x=\"Recency\", y=\"Monetary\", kind=\"scatter\", figsize=(12,8))"
   ]
  },
  {
   "cell_type": "markdown",
   "metadata": {},
   "source": [
    "На графике присутствует явный выброс - клиент с суммой покупок более 4 млн."
   ]
  },
  {
   "cell_type": "code",
   "execution_count": 40,
   "metadata": {},
   "outputs": [
    {
     "data": {
      "text/html": [
       "<div>\n",
       "<style scoped>\n",
       "    .dataframe tbody tr th:only-of-type {\n",
       "        vertical-align: middle;\n",
       "    }\n",
       "\n",
       "    .dataframe tbody tr th {\n",
       "        vertical-align: top;\n",
       "    }\n",
       "\n",
       "    .dataframe thead th {\n",
       "        text-align: right;\n",
       "    }\n",
       "</style>\n",
       "<table border=\"1\" class=\"dataframe\">\n",
       "  <thead>\n",
       "    <tr style=\"text-align: right;\">\n",
       "      <th></th>\n",
       "      <th>Frequency</th>\n",
       "      <th>Monetary</th>\n",
       "      <th>Recency</th>\n",
       "      <th>mean_sales</th>\n",
       "      <th>R</th>\n",
       "      <th>F</th>\n",
       "      <th>M</th>\n",
       "      <th>RFM</th>\n",
       "    </tr>\n",
       "  </thead>\n",
       "  <tbody>\n",
       "    <tr>\n",
       "      <th>count</th>\n",
       "      <td>100000.000000</td>\n",
       "      <td>1.000000e+05</td>\n",
       "      <td>100000.000000</td>\n",
       "      <td>100000.000000</td>\n",
       "      <td>100000.000000</td>\n",
       "      <td>100000.000000</td>\n",
       "      <td>100000.000000</td>\n",
       "      <td>100000.000000</td>\n",
       "    </tr>\n",
       "    <tr>\n",
       "      <th>mean</th>\n",
       "      <td>24.802140</td>\n",
       "      <td>3.945829e+04</td>\n",
       "      <td>65.551910</td>\n",
       "      <td>1772.639737</td>\n",
       "      <td>2.003620</td>\n",
       "      <td>1.980750</td>\n",
       "      <td>2.009990</td>\n",
       "      <td>222.179490</td>\n",
       "    </tr>\n",
       "    <tr>\n",
       "      <th>std</th>\n",
       "      <td>25.876797</td>\n",
       "      <td>5.204415e+04</td>\n",
       "      <td>89.157254</td>\n",
       "      <td>2059.068443</td>\n",
       "      <td>0.823914</td>\n",
       "      <td>0.823763</td>\n",
       "      <td>0.818485</td>\n",
       "      <td>87.876122</td>\n",
       "    </tr>\n",
       "    <tr>\n",
       "      <th>min</th>\n",
       "      <td>1.000000</td>\n",
       "      <td>-2.584060e+03</td>\n",
       "      <td>0.000000</td>\n",
       "      <td>-861.353333</td>\n",
       "      <td>1.000000</td>\n",
       "      <td>1.000000</td>\n",
       "      <td>1.000000</td>\n",
       "      <td>111.000000</td>\n",
       "    </tr>\n",
       "    <tr>\n",
       "      <th>25%</th>\n",
       "      <td>8.000000</td>\n",
       "      <td>9.451000e+03</td>\n",
       "      <td>5.000000</td>\n",
       "      <td>835.390357</td>\n",
       "      <td>1.000000</td>\n",
       "      <td>1.000000</td>\n",
       "      <td>1.000000</td>\n",
       "      <td>121.000000</td>\n",
       "    </tr>\n",
       "    <tr>\n",
       "      <th>50%</th>\n",
       "      <td>16.000000</td>\n",
       "      <td>2.255700e+04</td>\n",
       "      <td>21.000000</td>\n",
       "      <td>1401.000000</td>\n",
       "      <td>2.000000</td>\n",
       "      <td>2.000000</td>\n",
       "      <td>2.000000</td>\n",
       "      <td>222.000000</td>\n",
       "    </tr>\n",
       "    <tr>\n",
       "      <th>75%</th>\n",
       "      <td>32.000000</td>\n",
       "      <td>5.011700e+04</td>\n",
       "      <td>101.000000</td>\n",
       "      <td>2259.000000</td>\n",
       "      <td>3.000000</td>\n",
       "      <td>3.000000</td>\n",
       "      <td>3.000000</td>\n",
       "      <td>322.000000</td>\n",
       "    </tr>\n",
       "    <tr>\n",
       "      <th>max</th>\n",
       "      <td>247.000000</td>\n",
       "      <td>4.487191e+06</td>\n",
       "      <td>365.000000</td>\n",
       "      <td>448719.100000</td>\n",
       "      <td>3.000000</td>\n",
       "      <td>3.000000</td>\n",
       "      <td>3.000000</td>\n",
       "      <td>333.000000</td>\n",
       "    </tr>\n",
       "  </tbody>\n",
       "</table>\n",
       "</div>"
      ],
      "text/plain": [
       "           Frequency      Monetary        Recency     mean_sales  \\\n",
       "count  100000.000000  1.000000e+05  100000.000000  100000.000000   \n",
       "mean       24.802140  3.945829e+04      65.551910    1772.639737   \n",
       "std        25.876797  5.204415e+04      89.157254    2059.068443   \n",
       "min         1.000000 -2.584060e+03       0.000000    -861.353333   \n",
       "25%         8.000000  9.451000e+03       5.000000     835.390357   \n",
       "50%        16.000000  2.255700e+04      21.000000    1401.000000   \n",
       "75%        32.000000  5.011700e+04     101.000000    2259.000000   \n",
       "max       247.000000  4.487191e+06     365.000000  448719.100000   \n",
       "\n",
       "                   R              F              M            RFM  \n",
       "count  100000.000000  100000.000000  100000.000000  100000.000000  \n",
       "mean        2.003620       1.980750       2.009990     222.179490  \n",
       "std         0.823914       0.823763       0.818485      87.876122  \n",
       "min         1.000000       1.000000       1.000000     111.000000  \n",
       "25%         1.000000       1.000000       1.000000     121.000000  \n",
       "50%         2.000000       2.000000       2.000000     222.000000  \n",
       "75%         3.000000       3.000000       3.000000     322.000000  \n",
       "max         3.000000       3.000000       3.000000     333.000000  "
      ]
     },
     "execution_count": 40,
     "metadata": {},
     "output_type": "execute_result"
    }
   ],
   "source": [
    "data_RFM_analysis.describe()"
   ]
  },
  {
   "cell_type": "code",
   "execution_count": 61,
   "metadata": {},
   "outputs": [
    {
     "data": {
      "text/html": [
       "<div>\n",
       "<style scoped>\n",
       "    .dataframe tbody tr th:only-of-type {\n",
       "        vertical-align: middle;\n",
       "    }\n",
       "\n",
       "    .dataframe tbody tr th {\n",
       "        vertical-align: top;\n",
       "    }\n",
       "\n",
       "    .dataframe thead th {\n",
       "        text-align: right;\n",
       "    }\n",
       "</style>\n",
       "<table border=\"1\" class=\"dataframe\">\n",
       "  <thead>\n",
       "    <tr style=\"text-align: right;\">\n",
       "      <th></th>\n",
       "      <th>client</th>\n",
       "      <th>last_date</th>\n",
       "      <th>Frequency</th>\n",
       "      <th>Monetary</th>\n",
       "      <th>Recency</th>\n",
       "      <th>mean_sales</th>\n",
       "      <th>R</th>\n",
       "      <th>F</th>\n",
       "      <th>M</th>\n",
       "      <th>RFM</th>\n",
       "      <th>churn</th>\n",
       "    </tr>\n",
       "  </thead>\n",
       "  <tbody>\n",
       "    <tr>\n",
       "      <th>34739</th>\n",
       "      <td>596f837a638189cb15e9d4b144dd45c4</td>\n",
       "      <td>2017-08-26</td>\n",
       "      <td>10</td>\n",
       "      <td>4487191.0</td>\n",
       "      <td>39</td>\n",
       "      <td>448719.1</td>\n",
       "      <td>2</td>\n",
       "      <td>1</td>\n",
       "      <td>3</td>\n",
       "      <td>213</td>\n",
       "      <td>0</td>\n",
       "    </tr>\n",
       "  </tbody>\n",
       "</table>\n",
       "</div>"
      ],
      "text/plain": [
       "                                 client  last_date  Frequency   Monetary  \\\n",
       "34739  596f837a638189cb15e9d4b144dd45c4 2017-08-26         10  4487191.0   \n",
       "\n",
       "       Recency  mean_sales  R  F  M  RFM  churn  \n",
       "34739       39    448719.1  2  1  3  213      0  "
      ]
     },
     "execution_count": 61,
     "metadata": {},
     "output_type": "execute_result"
    }
   ],
   "source": [
    "data_RFM_analysis[data_RFM_analysis['Monetary'] == data_RFM_analysis['Monetary'].max()]"
   ]
  },
  {
   "cell_type": "markdown",
   "metadata": {},
   "source": [
    "Попробуем посмотреть на график без этого клиента."
   ]
  },
  {
   "cell_type": "code",
   "execution_count": 41,
   "metadata": {},
   "outputs": [],
   "source": [
    "data_RFM_analysis = data_RFM_analysis[data_RFM_analysis['Monetary'] < data_RFM_analysis['Monetary'].max()]"
   ]
  },
  {
   "cell_type": "code",
   "execution_count": 42,
   "metadata": {},
   "outputs": [
    {
     "data": {
      "text/plain": [
       "<AxesSubplot:xlabel='Recency', ylabel='Monetary'>"
      ]
     },
     "execution_count": 42,
     "metadata": {},
     "output_type": "execute_result"
    },
    {
     "data": {
      "image/png": "[encoded data removed]",
      "text/plain": [
       "<Figure size 864x576 with 1 Axes>"
      ]
     },
     "metadata": {
      "needs_background": "light"
     },
     "output_type": "display_data"
    }
   ],
   "source": [
    "data_RFM_analysis.plot(x=\"Recency\", y=\"Monetary\", kind=\"scatter\", figsize=(12,8))"
   ]
  },
  {
   "cell_type": "markdown",
   "metadata": {},
   "source": [
    "По графику видно, что у клиентов с недавним посещением магазина сумма покупок выше. Это не совсем информативно. Можно только предположить, что в числе таких клиентов, есть постоянные клиенты, которые совершили уже много покупок, и естественно, что сумма их покупок будет больше, чем у остальных."
   ]
  },
  {
   "cell_type": "markdown",
   "metadata": {},
   "source": [
    "Подтверждением может служить график зависимости Recency (давность последней покупки) и Frequency (общее число покупок)"
   ]
  },
  {
   "cell_type": "code",
   "execution_count": 73,
   "metadata": {},
   "outputs": [
    {
     "data": {
      "text/plain": [
       "<AxesSubplot:xlabel='Recency', ylabel='Frequency'>"
      ]
     },
     "execution_count": 73,
     "metadata": {},
     "output_type": "execute_result"
    },
    {
     "data": {
      "image/png": "[encoded data removed]",
      "text/plain": [
       "<Figure size 864x576 with 1 Axes>"
      ]
     },
     "metadata": {
      "needs_background": "light"
     },
     "output_type": "display_data"
    }
   ],
   "source": [
    "data_RFM_analysis.plot(x=\"Recency\", y=\"Frequency\", kind=\"scatter\", figsize=(12,8))"
   ]
  },
  {
   "cell_type": "markdown",
   "metadata": {},
   "source": [
    "Попробуем ввести другую характеристику Monetary - среднюю покупку клиента."
   ]
  },
  {
   "cell_type": "code",
   "execution_count": null,
   "metadata": {},
   "outputs": [],
   "source": [
    "data_RFM_analysis_ = data_RFM_analysis.copy(deep=True)"
   ]
  },
  {
   "cell_type": "code",
   "execution_count": null,
   "metadata": {},
   "outputs": [],
   "source": [
    "data_RFM_analysis_['mean_sales'] = data_RFM_analysis_['Monetary'] / data_RFM_analysis_['Frequency']"
   ]
  },
  {
   "cell_type": "code",
   "execution_count": 46,
   "metadata": {},
   "outputs": [
    {
     "data": {
      "text/plain": [
       "<AxesSubplot:xlabel='Recency', ylabel='mean_sales'>"
      ]
     },
     "execution_count": 46,
     "metadata": {},
     "output_type": "execute_result"
    },
    {
     "data": {
      "image/png": "[encoded data removed]",
      "text/plain": [
       "<Figure size 864x576 with 1 Axes>"
      ]
     },
     "metadata": {
      "needs_background": "light"
     },
     "output_type": "display_data"
    }
   ],
   "source": [
    "data_RFM_analysis_.plot(x=\"Recency\", y=\"mean_sales\", kind=\"scatter\", figsize=(12,8))"
   ]
  },
  {
   "cell_type": "markdown",
   "metadata": {},
   "source": [
    "Наблюдам пару выбросов, где средняя покупка более 100тыс. (что это за клиенты такие!? - тема для отдельного анализа)."
   ]
  },
  {
   "cell_type": "code",
   "execution_count": 62,
   "metadata": {},
   "outputs": [
    {
     "data": {
      "text/html": [
       "<div>\n",
       "<style scoped>\n",
       "    .dataframe tbody tr th:only-of-type {\n",
       "        vertical-align: middle;\n",
       "    }\n",
       "\n",
       "    .dataframe tbody tr th {\n",
       "        vertical-align: top;\n",
       "    }\n",
       "\n",
       "    .dataframe thead th {\n",
       "        text-align: right;\n",
       "    }\n",
       "</style>\n",
       "<table border=\"1\" class=\"dataframe\">\n",
       "  <thead>\n",
       "    <tr style=\"text-align: right;\">\n",
       "      <th></th>\n",
       "      <th>client</th>\n",
       "      <th>last_date</th>\n",
       "      <th>Frequency</th>\n",
       "      <th>Monetary</th>\n",
       "      <th>Recency</th>\n",
       "      <th>mean_sales</th>\n",
       "      <th>R</th>\n",
       "      <th>F</th>\n",
       "      <th>M</th>\n",
       "      <th>RFM</th>\n",
       "      <th>churn</th>\n",
       "    </tr>\n",
       "  </thead>\n",
       "  <tbody>\n",
       "    <tr>\n",
       "      <th>5142</th>\n",
       "      <td>0d1a0eccc30dd37d84c8351c27c419aa</td>\n",
       "      <td>2017-06-14</td>\n",
       "      <td>8</td>\n",
       "      <td>896465.0</td>\n",
       "      <td>112</td>\n",
       "      <td>112058.125</td>\n",
       "      <td>1</td>\n",
       "      <td>1</td>\n",
       "      <td>3</td>\n",
       "      <td>113</td>\n",
       "      <td>1</td>\n",
       "    </tr>\n",
       "    <tr>\n",
       "      <th>34739</th>\n",
       "      <td>596f837a638189cb15e9d4b144dd45c4</td>\n",
       "      <td>2017-08-26</td>\n",
       "      <td>10</td>\n",
       "      <td>4487191.0</td>\n",
       "      <td>39</td>\n",
       "      <td>448719.100</td>\n",
       "      <td>2</td>\n",
       "      <td>1</td>\n",
       "      <td>3</td>\n",
       "      <td>213</td>\n",
       "      <td>0</td>\n",
       "    </tr>\n",
       "  </tbody>\n",
       "</table>\n",
       "</div>"
      ],
      "text/plain": [
       "                                 client  last_date  Frequency   Monetary  \\\n",
       "5142   0d1a0eccc30dd37d84c8351c27c419aa 2017-06-14          8   896465.0   \n",
       "34739  596f837a638189cb15e9d4b144dd45c4 2017-08-26         10  4487191.0   \n",
       "\n",
       "       Recency  mean_sales  R  F  M  RFM  churn  \n",
       "5142       112  112058.125  1  1  3  113      1  \n",
       "34739       39  448719.100  2  1  3  213      0  "
      ]
     },
     "execution_count": 62,
     "metadata": {},
     "output_type": "execute_result"
    }
   ],
   "source": [
    "data_RFM_analysis_[data_RFM_analysis_['mean_sales'] >= 100000]"
   ]
  },
  {
   "cell_type": "markdown",
   "metadata": {},
   "source": [
    "Удалим этих клиентов из нашего датасета."
   ]
  },
  {
   "cell_type": "code",
   "execution_count": 47,
   "metadata": {},
   "outputs": [],
   "source": [
    "data_RFM_analysis_ = data_RFM_analysis_[data_RFM_analysis_['mean_sales'] < 100000]"
   ]
  },
  {
   "cell_type": "code",
   "execution_count": 48,
   "metadata": {},
   "outputs": [
    {
     "data": {
      "text/plain": [
       "<AxesSubplot:xlabel='Recency', ylabel='mean_sales'>"
      ]
     },
     "execution_count": 48,
     "metadata": {},
     "output_type": "execute_result"
    },
    {
     "data": {
      "image/png": "[encoded data removed]",
      "text/plain": [
       "<Figure size 864x576 with 1 Axes>"
      ]
     },
     "metadata": {
      "needs_background": "light"
     },
     "output_type": "display_data"
    }
   ],
   "source": [
    "data_RFM_analysis_.plot(x=\"Recency\", y=\"mean_sales\", kind=\"scatter\", figsize=(12,8))"
   ]
  },
  {
   "cell_type": "markdown",
   "metadata": {},
   "source": [
    "Сложно представить клиентов, у которых средняя сумма покупок более 30тыс. в продуктовом магазине, но пока оставим таких клиентов."
   ]
  },
  {
   "cell_type": "markdown",
   "metadata": {},
   "source": [
    "А вот выбросы, где средняя сумма покупки менее 0 (что тоже является темой для отдельного анализа), лучше убрать."
   ]
  },
  {
   "cell_type": "code",
   "execution_count": 63,
   "metadata": {},
   "outputs": [
    {
     "data": {
      "text/html": [
       "<div>\n",
       "<style scoped>\n",
       "    .dataframe tbody tr th:only-of-type {\n",
       "        vertical-align: middle;\n",
       "    }\n",
       "\n",
       "    .dataframe tbody tr th {\n",
       "        vertical-align: top;\n",
       "    }\n",
       "\n",
       "    .dataframe thead th {\n",
       "        text-align: right;\n",
       "    }\n",
       "</style>\n",
       "<table border=\"1\" class=\"dataframe\">\n",
       "  <thead>\n",
       "    <tr style=\"text-align: right;\">\n",
       "      <th></th>\n",
       "      <th>client</th>\n",
       "      <th>last_date</th>\n",
       "      <th>Frequency</th>\n",
       "      <th>Monetary</th>\n",
       "      <th>Recency</th>\n",
       "      <th>mean_sales</th>\n",
       "      <th>R</th>\n",
       "      <th>F</th>\n",
       "      <th>M</th>\n",
       "      <th>RFM</th>\n",
       "      <th>churn</th>\n",
       "    </tr>\n",
       "  </thead>\n",
       "  <tbody>\n",
       "    <tr>\n",
       "      <th>43483</th>\n",
       "      <td>6fb3760c61dabb7198cd23d4d47fbd76</td>\n",
       "      <td>2017-01-06</td>\n",
       "      <td>3</td>\n",
       "      <td>-2584.06</td>\n",
       "      <td>271</td>\n",
       "      <td>-861.353333</td>\n",
       "      <td>1</td>\n",
       "      <td>1</td>\n",
       "      <td>1</td>\n",
       "      <td>111</td>\n",
       "      <td>1</td>\n",
       "    </tr>\n",
       "    <tr>\n",
       "      <th>44192</th>\n",
       "      <td>7191556768d80a7c3d632d62cd796b3b</td>\n",
       "      <td>2016-10-13</td>\n",
       "      <td>1</td>\n",
       "      <td>-581.01</td>\n",
       "      <td>356</td>\n",
       "      <td>-581.010000</td>\n",
       "      <td>1</td>\n",
       "      <td>1</td>\n",
       "      <td>1</td>\n",
       "      <td>111</td>\n",
       "      <td>1</td>\n",
       "    </tr>\n",
       "    <tr>\n",
       "      <th>94416</th>\n",
       "      <td>f1a29ee132ae1f6d399c68c1e50f3d17</td>\n",
       "      <td>2016-10-24</td>\n",
       "      <td>2</td>\n",
       "      <td>0.00</td>\n",
       "      <td>345</td>\n",
       "      <td>0.000000</td>\n",
       "      <td>1</td>\n",
       "      <td>1</td>\n",
       "      <td>1</td>\n",
       "      <td>111</td>\n",
       "      <td>1</td>\n",
       "    </tr>\n",
       "  </tbody>\n",
       "</table>\n",
       "</div>"
      ],
      "text/plain": [
       "                                 client  last_date  Frequency  Monetary  \\\n",
       "43483  6fb3760c61dabb7198cd23d4d47fbd76 2017-01-06          3  -2584.06   \n",
       "44192  7191556768d80a7c3d632d62cd796b3b 2016-10-13          1   -581.01   \n",
       "94416  f1a29ee132ae1f6d399c68c1e50f3d17 2016-10-24          2      0.00   \n",
       "\n",
       "       Recency  mean_sales  R  F  M  RFM  churn  \n",
       "43483      271 -861.353333  1  1  1  111      1  \n",
       "44192      356 -581.010000  1  1  1  111      1  \n",
       "94416      345    0.000000  1  1  1  111      1  "
      ]
     },
     "execution_count": 63,
     "metadata": {},
     "output_type": "execute_result"
    }
   ],
   "source": [
    "data_RFM_analysis_[data_RFM_analysis_['mean_sales'] <= 0]"
   ]
  },
  {
   "cell_type": "markdown",
   "metadata": {},
   "source": [
    "Уберем из датасета этих клиентов."
   ]
  },
  {
   "cell_type": "code",
   "execution_count": 51,
   "metadata": {},
   "outputs": [],
   "source": [
    "data_RFM_analysis_ = data_RFM_analysis_[data_RFM_analysis_['mean_sales'] > 0]"
   ]
  },
  {
   "cell_type": "code",
   "execution_count": 56,
   "metadata": {},
   "outputs": [],
   "source": [
    "# colors=data_RFM_analysis_.groupby(\"RFM\").grouper.group_info[0].tolist()\n",
    "# data_RFM_analysis_.plot(x=\"Recency\", y=\"mean_sales\", c=colors, kind=\"scatter\", figsize=(12,8))"
   ]
  },
  {
   "cell_type": "code",
   "execution_count": 64,
   "metadata": {},
   "outputs": [
    {
     "data": {
      "text/plain": [
       "<AxesSubplot:xlabel='Recency', ylabel='mean_sales'>"
      ]
     },
     "execution_count": 64,
     "metadata": {},
     "output_type": "execute_result"
    },
    {
     "data": {
      "image/png": "[encoded data removed]",
      "text/plain": [
       "<Figure size 864x576 with 1 Axes>"
      ]
     },
     "metadata": {
      "needs_background": "light"
     },
     "output_type": "display_data"
    }
   ],
   "source": [
    "data_RFM_analysis_.plot(x=\"Recency\", y=\"mean_sales\", kind=\"scatter\", figsize=(12,8))"
   ]
  },
  {
   "cell_type": "markdown",
   "metadata": {},
   "source": [
    "Видно, что теперь клиенты распределяются более равномерно (средняя сумма покупки не зависит от того, когда клиент совершил последнюю покупку)."
   ]
  },
  {
   "cell_type": "code",
   "execution_count": 53,
   "metadata": {},
   "outputs": [
    {
     "data": {
      "text/html": [
       "<div>\n",
       "<style scoped>\n",
       "    .dataframe tbody tr th:only-of-type {\n",
       "        vertical-align: middle;\n",
       "    }\n",
       "\n",
       "    .dataframe tbody tr th {\n",
       "        vertical-align: top;\n",
       "    }\n",
       "\n",
       "    .dataframe thead th {\n",
       "        text-align: right;\n",
       "    }\n",
       "</style>\n",
       "<table border=\"1\" class=\"dataframe\">\n",
       "  <thead>\n",
       "    <tr style=\"text-align: right;\">\n",
       "      <th></th>\n",
       "      <th>Frequency</th>\n",
       "      <th>Monetary</th>\n",
       "      <th>Recency</th>\n",
       "      <th>mean_sales</th>\n",
       "      <th>R</th>\n",
       "      <th>F</th>\n",
       "      <th>M</th>\n",
       "      <th>RFM</th>\n",
       "      <th>churn</th>\n",
       "    </tr>\n",
       "  </thead>\n",
       "  <tbody>\n",
       "    <tr>\n",
       "      <th>count</th>\n",
       "      <td>99995.000000</td>\n",
       "      <td>9.999500e+04</td>\n",
       "      <td>99995.000000</td>\n",
       "      <td>99995.000000</td>\n",
       "      <td>99995.00000</td>\n",
       "      <td>99995.000000</td>\n",
       "      <td>99995.000000</td>\n",
       "      <td>99995.000000</td>\n",
       "      <td>99995.000000</td>\n",
       "    </tr>\n",
       "    <tr>\n",
       "      <th>mean</th>\n",
       "      <td>24.803140</td>\n",
       "      <td>3.940645e+04</td>\n",
       "      <td>65.543957</td>\n",
       "      <td>1767.134745</td>\n",
       "      <td>2.00366</td>\n",
       "      <td>1.980799</td>\n",
       "      <td>2.010001</td>\n",
       "      <td>222.184009</td>\n",
       "      <td>0.337587</td>\n",
       "    </tr>\n",
       "    <tr>\n",
       "      <th>std</th>\n",
       "      <td>25.877046</td>\n",
       "      <td>5.003496e+04</td>\n",
       "      <td>89.147843</td>\n",
       "      <td>1456.166513</td>\n",
       "      <td>0.82391</td>\n",
       "      <td>0.823755</td>\n",
       "      <td>0.818474</td>\n",
       "      <td>87.875526</td>\n",
       "      <td>0.472889</td>\n",
       "    </tr>\n",
       "    <tr>\n",
       "      <th>min</th>\n",
       "      <td>1.000000</td>\n",
       "      <td>3.000000e+01</td>\n",
       "      <td>0.000000</td>\n",
       "      <td>15.000000</td>\n",
       "      <td>1.00000</td>\n",
       "      <td>1.000000</td>\n",
       "      <td>1.000000</td>\n",
       "      <td>111.000000</td>\n",
       "      <td>0.000000</td>\n",
       "    </tr>\n",
       "    <tr>\n",
       "      <th>25%</th>\n",
       "      <td>8.000000</td>\n",
       "      <td>9.451500e+03</td>\n",
       "      <td>5.000000</td>\n",
       "      <td>835.424751</td>\n",
       "      <td>1.00000</td>\n",
       "      <td>1.000000</td>\n",
       "      <td>1.000000</td>\n",
       "      <td>121.000000</td>\n",
       "      <td>0.000000</td>\n",
       "    </tr>\n",
       "    <tr>\n",
       "      <th>50%</th>\n",
       "      <td>16.000000</td>\n",
       "      <td>2.255700e+04</td>\n",
       "      <td>21.000000</td>\n",
       "      <td>1401.000000</td>\n",
       "      <td>2.00000</td>\n",
       "      <td>2.000000</td>\n",
       "      <td>2.000000</td>\n",
       "      <td>222.000000</td>\n",
       "      <td>0.000000</td>\n",
       "    </tr>\n",
       "    <tr>\n",
       "      <th>75%</th>\n",
       "      <td>32.000000</td>\n",
       "      <td>5.011482e+04</td>\n",
       "      <td>101.000000</td>\n",
       "      <td>2258.978478</td>\n",
       "      <td>3.00000</td>\n",
       "      <td>3.000000</td>\n",
       "      <td>3.000000</td>\n",
       "      <td>322.000000</td>\n",
       "      <td>1.000000</td>\n",
       "    </tr>\n",
       "    <tr>\n",
       "      <th>max</th>\n",
       "      <td>247.000000</td>\n",
       "      <td>1.424631e+06</td>\n",
       "      <td>365.000000</td>\n",
       "      <td>46555.000000</td>\n",
       "      <td>3.00000</td>\n",
       "      <td>3.000000</td>\n",
       "      <td>3.000000</td>\n",
       "      <td>333.000000</td>\n",
       "      <td>1.000000</td>\n",
       "    </tr>\n",
       "  </tbody>\n",
       "</table>\n",
       "</div>"
      ],
      "text/plain": [
       "          Frequency      Monetary       Recency    mean_sales            R  \\\n",
       "count  99995.000000  9.999500e+04  99995.000000  99995.000000  99995.00000   \n",
       "mean      24.803140  3.940645e+04     65.543957   1767.134745      2.00366   \n",
       "std       25.877046  5.003496e+04     89.147843   1456.166513      0.82391   \n",
       "min        1.000000  3.000000e+01      0.000000     15.000000      1.00000   \n",
       "25%        8.000000  9.451500e+03      5.000000    835.424751      1.00000   \n",
       "50%       16.000000  2.255700e+04     21.000000   1401.000000      2.00000   \n",
       "75%       32.000000  5.011482e+04    101.000000   2258.978478      3.00000   \n",
       "max      247.000000  1.424631e+06    365.000000  46555.000000      3.00000   \n",
       "\n",
       "                  F             M           RFM         churn  \n",
       "count  99995.000000  99995.000000  99995.000000  99995.000000  \n",
       "mean       1.980799      2.010001    222.184009      0.337587  \n",
       "std        0.823755      0.818474     87.875526      0.472889  \n",
       "min        1.000000      1.000000    111.000000      0.000000  \n",
       "25%        1.000000      1.000000    121.000000      0.000000  \n",
       "50%        2.000000      2.000000    222.000000      0.000000  \n",
       "75%        3.000000      3.000000    322.000000      1.000000  \n",
       "max        3.000000      3.000000    333.000000      1.000000  "
      ]
     },
     "execution_count": 53,
     "metadata": {},
     "output_type": "execute_result"
    }
   ],
   "source": [
    "data_RFM_analysis_.describe()"
   ]
  },
  {
   "cell_type": "markdown",
   "metadata": {},
   "source": [
    "Если в качестве показателя Monetary взять не общую сумму покупок, а среднюю сумму покупки, то клиенты распределяться по группам несколько по-иному."
   ]
  },
  {
   "cell_type": "code",
   "execution_count": 59,
   "metadata": {},
   "outputs": [
    {
     "name": "stdout",
     "output_type": "stream",
     "text": [
      "1008.0000166666667 :: 1880.6680000000003\n"
     ]
    }
   ],
   "source": [
    "# разобьем всех клиентов на три группы по показателю Monetary (теперь уже по средней сумме покупки)\n",
    "M_33 = data_RFM_analysis_['mean_sales'].quantile(0.33)\n",
    "M_66 = data_RFM_analysis_['mean_sales'].quantile(0.66)\n",
    "print(M_33, '::', M_66)"
   ]
  },
  {
   "cell_type": "code",
   "execution_count": 66,
   "metadata": {},
   "outputs": [],
   "source": [
    "data_RFM_analysis_['M'] = data_RFM_analysis_.apply(\n",
    "    lambda x: 1 if x.mean_sales <= M_33 else (2 if x.mean_sales <= M_66 else 3),\n",
    "    axis=1)"
   ]
  },
  {
   "cell_type": "code",
   "execution_count": 67,
   "metadata": {},
   "outputs": [],
   "source": [
    "#  рассчитаем RFM-код для каждого клиента\n",
    "data_RFM_analysis_['RFM'] = data_RFM_analysis_['R']*100 + data_RFM_analysis_['F']*10 + data_RFM_analysis_['M']"
   ]
  },
  {
   "cell_type": "code",
   "execution_count": 75,
   "metadata": {},
   "outputs": [
    {
     "data": {
      "text/html": [
       "<div>\n",
       "<style scoped>\n",
       "    .dataframe tbody tr th:only-of-type {\n",
       "        vertical-align: middle;\n",
       "    }\n",
       "\n",
       "    .dataframe tbody tr th {\n",
       "        vertical-align: top;\n",
       "    }\n",
       "\n",
       "    .dataframe thead th {\n",
       "        text-align: right;\n",
       "    }\n",
       "</style>\n",
       "<table border=\"1\" class=\"dataframe\">\n",
       "  <thead>\n",
       "    <tr style=\"text-align: right;\">\n",
       "      <th></th>\n",
       "      <th>RFM</th>\n",
       "      <th>client</th>\n",
       "    </tr>\n",
       "  </thead>\n",
       "  <tbody>\n",
       "    <tr>\n",
       "      <th>0</th>\n",
       "      <td>111</td>\n",
       "      <td>8259</td>\n",
       "    </tr>\n",
       "    <tr>\n",
       "      <th>1</th>\n",
       "      <td>112</td>\n",
       "      <td>6772</td>\n",
       "    </tr>\n",
       "    <tr>\n",
       "      <th>2</th>\n",
       "      <td>113</td>\n",
       "      <td>8461</td>\n",
       "    </tr>\n",
       "    <tr>\n",
       "      <th>3</th>\n",
       "      <td>121</td>\n",
       "      <td>3059</td>\n",
       "    </tr>\n",
       "    <tr>\n",
       "      <th>4</th>\n",
       "      <td>122</td>\n",
       "      <td>2572</td>\n",
       "    </tr>\n",
       "    <tr>\n",
       "      <th>5</th>\n",
       "      <td>123</td>\n",
       "      <td>2241</td>\n",
       "    </tr>\n",
       "    <tr>\n",
       "      <th>6</th>\n",
       "      <td>131</td>\n",
       "      <td>1285</td>\n",
       "    </tr>\n",
       "    <tr>\n",
       "      <th>7</th>\n",
       "      <td>132</td>\n",
       "      <td>694</td>\n",
       "    </tr>\n",
       "    <tr>\n",
       "      <th>8</th>\n",
       "      <td>133</td>\n",
       "      <td>414</td>\n",
       "    </tr>\n",
       "    <tr>\n",
       "      <th>9</th>\n",
       "      <td>211</td>\n",
       "      <td>2288</td>\n",
       "    </tr>\n",
       "    <tr>\n",
       "      <th>10</th>\n",
       "      <td>212</td>\n",
       "      <td>2654</td>\n",
       "    </tr>\n",
       "    <tr>\n",
       "      <th>11</th>\n",
       "      <td>213</td>\n",
       "      <td>3322</td>\n",
       "    </tr>\n",
       "    <tr>\n",
       "      <th>12</th>\n",
       "      <td>221</td>\n",
       "      <td>3912</td>\n",
       "    </tr>\n",
       "    <tr>\n",
       "      <th>13</th>\n",
       "      <td>222</td>\n",
       "      <td>5147</td>\n",
       "    </tr>\n",
       "    <tr>\n",
       "      <th>14</th>\n",
       "      <td>223</td>\n",
       "      <td>5627</td>\n",
       "    </tr>\n",
       "    <tr>\n",
       "      <th>15</th>\n",
       "      <td>231</td>\n",
       "      <td>3130</td>\n",
       "    </tr>\n",
       "    <tr>\n",
       "      <th>16</th>\n",
       "      <td>232</td>\n",
       "      <td>3239</td>\n",
       "    </tr>\n",
       "    <tr>\n",
       "      <th>17</th>\n",
       "      <td>233</td>\n",
       "      <td>2796</td>\n",
       "    </tr>\n",
       "    <tr>\n",
       "      <th>18</th>\n",
       "      <td>311</td>\n",
       "      <td>912</td>\n",
       "    </tr>\n",
       "    <tr>\n",
       "      <th>19</th>\n",
       "      <td>312</td>\n",
       "      <td>1030</td>\n",
       "    </tr>\n",
       "    <tr>\n",
       "      <th>20</th>\n",
       "      <td>313</td>\n",
       "      <td>1207</td>\n",
       "    </tr>\n",
       "    <tr>\n",
       "      <th>21</th>\n",
       "      <td>321</td>\n",
       "      <td>2666</td>\n",
       "    </tr>\n",
       "    <tr>\n",
       "      <th>22</th>\n",
       "      <td>322</td>\n",
       "      <td>3262</td>\n",
       "    </tr>\n",
       "    <tr>\n",
       "      <th>23</th>\n",
       "      <td>323</td>\n",
       "      <td>3619</td>\n",
       "    </tr>\n",
       "    <tr>\n",
       "      <th>24</th>\n",
       "      <td>331</td>\n",
       "      <td>7488</td>\n",
       "    </tr>\n",
       "    <tr>\n",
       "      <th>25</th>\n",
       "      <td>332</td>\n",
       "      <td>7628</td>\n",
       "    </tr>\n",
       "    <tr>\n",
       "      <th>26</th>\n",
       "      <td>333</td>\n",
       "      <td>6311</td>\n",
       "    </tr>\n",
       "  </tbody>\n",
       "</table>\n",
       "</div>"
      ],
      "text/plain": [
       "    RFM  client\n",
       "0   111    8259\n",
       "1   112    6772\n",
       "2   113    8461\n",
       "3   121    3059\n",
       "4   122    2572\n",
       "5   123    2241\n",
       "6   131    1285\n",
       "7   132     694\n",
       "8   133     414\n",
       "9   211    2288\n",
       "10  212    2654\n",
       "11  213    3322\n",
       "12  221    3912\n",
       "13  222    5147\n",
       "14  223    5627\n",
       "15  231    3130\n",
       "16  232    3239\n",
       "17  233    2796\n",
       "18  311     912\n",
       "19  312    1030\n",
       "20  313    1207\n",
       "21  321    2666\n",
       "22  322    3262\n",
       "23  323    3619\n",
       "24  331    7488\n",
       "25  332    7628\n",
       "26  333    6311"
      ]
     },
     "execution_count": 75,
     "metadata": {},
     "output_type": "execute_result"
    }
   ],
   "source": [
    "# посмотрим как теперь клиенты распределились по группам\n",
    "data_RFM_analysis_.groupby('RFM', as_index=False).client.count()"
   ]
  },
  {
   "cell_type": "code",
   "execution_count": 81,
   "metadata": {},
   "outputs": [
    {
     "data": {
      "text/plain": [
       "<AxesSubplot:ylabel='client'>"
      ]
     },
     "execution_count": 81,
     "metadata": {},
     "output_type": "execute_result"
    },
    {
     "data": {
      "image/png": "[encoded data removed]",
      "text/plain": [
       "<Figure size 864x576 with 1 Axes>"
      ]
     },
     "metadata": {},
     "output_type": "display_data"
    }
   ],
   "source": [
    "data_RFM_analysis_.groupby('RFM').client.count().plot(kind=\"pie\", figsize=(12,8))"
   ]
  },
  {
   "cell_type": "markdown",
   "metadata": {},
   "source": [
    "Видно, что теперь клиенты рапределились по группам более равномерно."
   ]
  },
  {
   "cell_type": "markdown",
   "metadata": {},
   "source": [
    "Приведем интерпретацию RFM-кодов.\n",
    " \n",
    "![title](RFM-code.png)"
   ]
  },
  {
   "cell_type": "markdown",
   "metadata": {},
   "source": [
    "Мы провели RFM-анализ для того чтобы дать характеристику клиентам. «Отток» — это клиенты, которые давно не покупали, а «Риск оттока» — которые покупали среднее количество времени назад. Активные — те, кто недавно совершил покупку."
   ]
  },
  {
   "cell_type": "code",
   "execution_count": null,
   "metadata": {},
   "outputs": [],
   "source": [
    "Вообще говоря можно было не проводить полный RFM-анализ, а только разделить клиентов о признаку Recency."
   ]
  },
  {
   "cell_type": "code",
   "execution_count": null,
   "metadata": {},
   "outputs": [],
   "source": []
  },
  {
   "cell_type": "code",
   "execution_count": null,
   "metadata": {},
   "outputs": [],
   "source": []
  }
 ],
 "metadata": {
  "kernelspec": {
   "display_name": "Python 3",
   "language": "python",
   "name": "python3"
  },
  "language_info": {
   "codemirror_mode": {
    "name": "ipython",
    "version": 3
   },
   "file_extension": ".py",
   "mimetype": "text/x-python",
   "name": "python",
   "nbconvert_exporter": "python",
   "pygments_lexer": "ipython3",
   "version": "3.7.4"
  }
 },
 "nbformat": 4,
 "nbformat_minor": 4
}
